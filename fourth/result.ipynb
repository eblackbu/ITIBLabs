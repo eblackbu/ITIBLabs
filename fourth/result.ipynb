{
 "cells": [
  {
   "cell_type": "markdown",
   "id": "478a39ca",
   "metadata": {
    "pycharm": {
     "name": "#%% md\n"
    }
   },
   "source": [
    "### Постановка задачи.\n",
    "\n",
    "Получить модель булевой функции (БФ) на основе однослойной НС (единичный нейрон) с двоичными входами 𝑥1,𝑥2,𝑥3,𝑥4∈{0,1}, единичным входом смещения 𝑥0=1, синаптическими весами 𝑤0,𝑤1,𝑤2,𝑤3,𝑤4, двоичным выходом 𝑦∈{0,1} и заданной нелинейной функцией активации (ФА) 𝑓:𝑅→(0,1) (рис. 1.1).\n",
    "\n",
    "Для заданной БФ (варианты см. в табл. 1.4) реализовать обучение НС с использованием:\n",
    "1. всех комбинаций переменных 𝑥1,𝑥2,𝑥3,𝑥4;\n",
    "2. части возможных комбинаций переменных 𝑥1,𝑥2,𝑥3,𝑥4;\n",
    "\n",
    "остальные комбинации являются тестовыми."
   ]
  },
  {
   "cell_type": "code",
   "execution_count": 5,
   "id": "9ea3c415",
   "metadata": {},
   "outputs": [],
   "source": [
    "from services import *\n",
    "import pandas as pd\n",
    "from copy import copy\n",
    "import matplotlib.pyplot as plt"
   ]
  },
  {
   "cell_type": "markdown",
   "id": "f0d664bb",
   "metadata": {},
   "source": [
    "<b> Таблица истинности </b>"
   ]
  },
  {
   "cell_type": "code",
   "execution_count": 6,
   "id": "fab7184b",
   "metadata": {
    "pycharm": {
     "name": "#%%\n"
    }
   },
   "outputs": [
    {
     "data": {
      "text/html": [
       "<div>\n",
       "<style scoped>\n",
       "    .dataframe tbody tr th:only-of-type {\n",
       "        vertical-align: middle;\n",
       "    }\n",
       "\n",
       "    .dataframe tbody tr th {\n",
       "        vertical-align: top;\n",
       "    }\n",
       "\n",
       "    .dataframe thead th {\n",
       "        text-align: right;\n",
       "    }\n",
       "</style>\n",
       "<table border=\"1\" class=\"dataframe\">\n",
       "  <thead>\n",
       "    <tr style=\"text-align: right;\">\n",
       "      <th></th>\n",
       "      <th>x1</th>\n",
       "      <th>x2</th>\n",
       "      <th>x3</th>\n",
       "      <th>x4</th>\n",
       "      <th>F</th>\n",
       "    </tr>\n",
       "  </thead>\n",
       "  <tbody>\n",
       "    <tr>\n",
       "      <th>0</th>\n",
       "      <td>0</td>\n",
       "      <td>0</td>\n",
       "      <td>0</td>\n",
       "      <td>0</td>\n",
       "      <td>0</td>\n",
       "    </tr>\n",
       "    <tr>\n",
       "      <th>1</th>\n",
       "      <td>0</td>\n",
       "      <td>0</td>\n",
       "      <td>0</td>\n",
       "      <td>1</td>\n",
       "      <td>0</td>\n",
       "    </tr>\n",
       "    <tr>\n",
       "      <th>2</th>\n",
       "      <td>0</td>\n",
       "      <td>0</td>\n",
       "      <td>1</td>\n",
       "      <td>0</td>\n",
       "      <td>0</td>\n",
       "    </tr>\n",
       "    <tr>\n",
       "      <th>3</th>\n",
       "      <td>0</td>\n",
       "      <td>0</td>\n",
       "      <td>1</td>\n",
       "      <td>1</td>\n",
       "      <td>1</td>\n",
       "    </tr>\n",
       "    <tr>\n",
       "      <th>4</th>\n",
       "      <td>0</td>\n",
       "      <td>1</td>\n",
       "      <td>0</td>\n",
       "      <td>0</td>\n",
       "      <td>0</td>\n",
       "    </tr>\n",
       "    <tr>\n",
       "      <th>5</th>\n",
       "      <td>0</td>\n",
       "      <td>1</td>\n",
       "      <td>0</td>\n",
       "      <td>1</td>\n",
       "      <td>1</td>\n",
       "    </tr>\n",
       "    <tr>\n",
       "      <th>6</th>\n",
       "      <td>0</td>\n",
       "      <td>1</td>\n",
       "      <td>1</td>\n",
       "      <td>0</td>\n",
       "      <td>0</td>\n",
       "    </tr>\n",
       "    <tr>\n",
       "      <th>7</th>\n",
       "      <td>0</td>\n",
       "      <td>1</td>\n",
       "      <td>1</td>\n",
       "      <td>1</td>\n",
       "      <td>1</td>\n",
       "    </tr>\n",
       "    <tr>\n",
       "      <th>8</th>\n",
       "      <td>1</td>\n",
       "      <td>0</td>\n",
       "      <td>0</td>\n",
       "      <td>0</td>\n",
       "      <td>0</td>\n",
       "    </tr>\n",
       "    <tr>\n",
       "      <th>9</th>\n",
       "      <td>1</td>\n",
       "      <td>0</td>\n",
       "      <td>0</td>\n",
       "      <td>1</td>\n",
       "      <td>1</td>\n",
       "    </tr>\n",
       "    <tr>\n",
       "      <th>10</th>\n",
       "      <td>1</td>\n",
       "      <td>0</td>\n",
       "      <td>1</td>\n",
       "      <td>0</td>\n",
       "      <td>0</td>\n",
       "    </tr>\n",
       "    <tr>\n",
       "      <th>11</th>\n",
       "      <td>1</td>\n",
       "      <td>0</td>\n",
       "      <td>1</td>\n",
       "      <td>1</td>\n",
       "      <td>1</td>\n",
       "    </tr>\n",
       "    <tr>\n",
       "      <th>12</th>\n",
       "      <td>1</td>\n",
       "      <td>1</td>\n",
       "      <td>0</td>\n",
       "      <td>0</td>\n",
       "      <td>0</td>\n",
       "    </tr>\n",
       "    <tr>\n",
       "      <th>13</th>\n",
       "      <td>1</td>\n",
       "      <td>1</td>\n",
       "      <td>0</td>\n",
       "      <td>1</td>\n",
       "      <td>1</td>\n",
       "    </tr>\n",
       "    <tr>\n",
       "      <th>14</th>\n",
       "      <td>1</td>\n",
       "      <td>1</td>\n",
       "      <td>1</td>\n",
       "      <td>0</td>\n",
       "      <td>0</td>\n",
       "    </tr>\n",
       "    <tr>\n",
       "      <th>15</th>\n",
       "      <td>1</td>\n",
       "      <td>1</td>\n",
       "      <td>1</td>\n",
       "      <td>1</td>\n",
       "      <td>1</td>\n",
       "    </tr>\n",
       "  </tbody>\n",
       "</table>\n",
       "</div>"
      ],
      "text/plain": [
       "    x1  x2  x3  x4  F\n",
       "0    0   0   0   0  0\n",
       "1    0   0   0   1  0\n",
       "2    0   0   1   0  0\n",
       "3    0   0   1   1  1\n",
       "4    0   1   0   0  0\n",
       "5    0   1   0   1  1\n",
       "6    0   1   1   0  0\n",
       "7    0   1   1   1  1\n",
       "8    1   0   0   0  0\n",
       "9    1   0   0   1  1\n",
       "10   1   0   1   0  0\n",
       "11   1   0   1   1  1\n",
       "12   1   1   0   0  0\n",
       "13   1   1   0   1  1\n",
       "14   1   1   1   0  0\n",
       "15   1   1   1   1  1"
      ]
     },
     "execution_count": 6,
     "metadata": {},
     "output_type": "execute_result"
    }
   ],
   "source": [
    "truth_table = [[*x[0]] + [x[1]] for x in zip(FULL_TRAIN_DATA, FULL_EXPECTED_OUTPUT_DATA)]\n",
    "pd.DataFrame(truth_table, columns=('x1', 'x2', 'x3', 'x4', 'F'))"
   ]
  },
  {
   "cell_type": "markdown",
   "id": "d2422736",
   "metadata": {
    "pycharm": {
     "name": "#%% md\n"
    }
   },
   "source": [
    "***\n",
    "\n",
    "## Функция активации №1\n",
    "\n",
    "$$ f(net)= \\left\\{\n",
    "\\begin{array}{ll}\n",
    "      1 & net >= 0 \\\\\n",
    "      0 & net < 0 \\\\\n",
    "\\end{array}\n",
    "\\right.  $$"
   ]
  },
  {
   "cell_type": "code",
   "execution_count": 7,
   "id": "8ad4c094",
   "metadata": {
    "pycharm": {
     "name": "#%%\n"
    }
   },
   "outputs": [
    {
     "ename": "IndexError",
     "evalue": "list index out of range",
     "output_type": "error",
     "traceback": [
      "\u001b[0;31m---------------------------------------------------------------------------\u001b[0m",
      "\u001b[0;31mIndexError\u001b[0m                                Traceback (most recent call last)",
      "\u001b[0;32m<ipython-input-7-eb67450ee14d>\u001b[0m in \u001b[0;36m<module>\u001b[0;34m\u001b[0m\n\u001b[1;32m      9\u001b[0m     \u001b[0mepoch_number\u001b[0m \u001b[0;34m+=\u001b[0m \u001b[0;36m1\u001b[0m\u001b[0;34m\u001b[0m\u001b[0;34m\u001b[0m\u001b[0m\n\u001b[1;32m     10\u001b[0m     \u001b[0mcurrent_weights\u001b[0m \u001b[0;34m=\u001b[0m \u001b[0mcopy\u001b[0m\u001b[0;34m(\u001b[0m\u001b[0mnn\u001b[0m\u001b[0;34m.\u001b[0m\u001b[0mweights\u001b[0m\u001b[0;34m)\u001b[0m\u001b[0;34m\u001b[0m\u001b[0;34m\u001b[0m\u001b[0m\n\u001b[0;32m---> 11\u001b[0;31m     \u001b[0mcount_errors\u001b[0m \u001b[0;34m=\u001b[0m \u001b[0mnn\u001b[0m\u001b[0;34m.\u001b[0m\u001b[0mepoch\u001b[0m\u001b[0;34m(\u001b[0m\u001b[0mFULL_TRAIN_DATA\u001b[0m\u001b[0;34m)\u001b[0m\u001b[0;34m\u001b[0m\u001b[0;34m\u001b[0m\u001b[0m\n\u001b[0m\u001b[1;32m     12\u001b[0m \u001b[0;34m\u001b[0m\u001b[0m\n\u001b[1;32m     13\u001b[0m     data.append([epoch_number,\n",
      "\u001b[0;32m~/PycharmProjects/ITIBLabs/fourth/services.py\u001b[0m in \u001b[0;36mepoch\u001b[0;34m(self, input_data)\u001b[0m\n\u001b[1;32m     73\u001b[0m             \u001b[0;32mreturn\u001b[0m \u001b[0mself\u001b[0m\u001b[0;34m.\u001b[0m\u001b[0mcurrent_error_count\u001b[0m\u001b[0;34m\u001b[0m\u001b[0;34m\u001b[0m\u001b[0m\n\u001b[1;32m     74\u001b[0m         \u001b[0merrors\u001b[0m \u001b[0;34m=\u001b[0m \u001b[0;34m[\u001b[0m\u001b[0mFULL_EXPECTED_OUTPUT_DATA\u001b[0m\u001b[0;34m[\u001b[0m\u001b[0mi\u001b[0m\u001b[0;34m]\u001b[0m \u001b[0;34m-\u001b[0m \u001b[0mself\u001b[0m\u001b[0;34m.\u001b[0m\u001b[0mcurrent_nn_output\u001b[0m\u001b[0;34m[\u001b[0m\u001b[0mi\u001b[0m\u001b[0;34m]\u001b[0m \u001b[0;32mfor\u001b[0m \u001b[0mi\u001b[0m \u001b[0;32min\u001b[0m \u001b[0mrange\u001b[0m\u001b[0;34m(\u001b[0m\u001b[0mlen\u001b[0m\u001b[0;34m(\u001b[0m\u001b[0mself\u001b[0m\u001b[0;34m.\u001b[0m\u001b[0mcurrent_nn_output\u001b[0m\u001b[0;34m)\u001b[0m\u001b[0;34m)\u001b[0m\u001b[0;34m]\u001b[0m\u001b[0;34m\u001b[0m\u001b[0;34m\u001b[0m\u001b[0m\n\u001b[0;32m---> 75\u001b[0;31m         \u001b[0mself\u001b[0m\u001b[0;34m.\u001b[0m\u001b[0mchange_weights\u001b[0m\u001b[0;34m(\u001b[0m\u001b[0;34m[\u001b[0m\u001b[0;34m[\u001b[0m\u001b[0;36m1\u001b[0m\u001b[0;34m]\u001b[0m \u001b[0;34m+\u001b[0m \u001b[0mx\u001b[0m \u001b[0;32mfor\u001b[0m \u001b[0mx\u001b[0m \u001b[0;32min\u001b[0m \u001b[0minput_data\u001b[0m\u001b[0;34m]\u001b[0m\u001b[0;34m,\u001b[0m \u001b[0merrors\u001b[0m\u001b[0;34m)\u001b[0m\u001b[0;34m\u001b[0m\u001b[0;34m\u001b[0m\u001b[0m\n\u001b[0m\u001b[1;32m     76\u001b[0m         \u001b[0;32mreturn\u001b[0m \u001b[0mself\u001b[0m\u001b[0;34m.\u001b[0m\u001b[0mcurrent_error_count\u001b[0m\u001b[0;34m\u001b[0m\u001b[0;34m\u001b[0m\u001b[0m\n\u001b[1;32m     77\u001b[0m \u001b[0;34m\u001b[0m\u001b[0m\n",
      "\u001b[0;32m~/PycharmProjects/ITIBLabs/fourth/services.py\u001b[0m in \u001b[0;36mchange_weights\u001b[0;34m(self, input_train_data, errors)\u001b[0m\n\u001b[1;32m     58\u001b[0m                        errors: List[int]) -> None:\n\u001b[1;32m     59\u001b[0m         \u001b[0;32mfor\u001b[0m \u001b[0mi\u001b[0m\u001b[0;34m,\u001b[0m \u001b[0m_\u001b[0m \u001b[0;32min\u001b[0m \u001b[0menumerate\u001b[0m\u001b[0;34m(\u001b[0m\u001b[0mself\u001b[0m\u001b[0;34m.\u001b[0m\u001b[0mweights\u001b[0m\u001b[0;34m)\u001b[0m\u001b[0;34m:\u001b[0m\u001b[0;34m\u001b[0m\u001b[0;34m\u001b[0m\u001b[0m\n\u001b[0;32m---> 60\u001b[0;31m             self.weights[i] += sum(self.learning_rate *\n\u001b[0m\u001b[1;32m     61\u001b[0m                                    \u001b[0mself\u001b[0m\u001b[0;34m.\u001b[0m\u001b[0merror_function\u001b[0m\u001b[0;34m(\u001b[0m\u001b[0merrors\u001b[0m\u001b[0;34m[\u001b[0m\u001b[0mj\u001b[0m\u001b[0;34m]\u001b[0m\u001b[0;34m)\u001b[0m \u001b[0;34m*\u001b[0m\u001b[0;34m\u001b[0m\u001b[0;34m\u001b[0m\u001b[0m\n\u001b[1;32m     62\u001b[0m                                    \u001b[0mself\u001b[0m\u001b[0;34m.\u001b[0m\u001b[0mget_fi\u001b[0m\u001b[0;34m(\u001b[0m\u001b[0minput_train_data\u001b[0m\u001b[0;34m[\u001b[0m\u001b[0mj\u001b[0m\u001b[0;34m]\u001b[0m\u001b[0;34m)\u001b[0m\u001b[0;34m\u001b[0m\u001b[0;34m\u001b[0m\u001b[0m\n",
      "\u001b[0;32m~/PycharmProjects/ITIBLabs/fourth/services.py\u001b[0m in \u001b[0;36m<genexpr>\u001b[0;34m(.0)\u001b[0m\n\u001b[1;32m     60\u001b[0m             self.weights[i] += sum(self.learning_rate *\n\u001b[1;32m     61\u001b[0m                                    \u001b[0mself\u001b[0m\u001b[0;34m.\u001b[0m\u001b[0merror_function\u001b[0m\u001b[0;34m(\u001b[0m\u001b[0merrors\u001b[0m\u001b[0;34m[\u001b[0m\u001b[0mj\u001b[0m\u001b[0;34m]\u001b[0m\u001b[0;34m)\u001b[0m \u001b[0;34m*\u001b[0m\u001b[0;34m\u001b[0m\u001b[0;34m\u001b[0m\u001b[0m\n\u001b[0;32m---> 62\u001b[0;31m                                    \u001b[0mself\u001b[0m\u001b[0;34m.\u001b[0m\u001b[0mget_fi\u001b[0m\u001b[0;34m(\u001b[0m\u001b[0minput_train_data\u001b[0m\u001b[0;34m[\u001b[0m\u001b[0mj\u001b[0m\u001b[0;34m]\u001b[0m\u001b[0;34m)\u001b[0m\u001b[0;34m\u001b[0m\u001b[0;34m\u001b[0m\u001b[0m\n\u001b[0m\u001b[1;32m     63\u001b[0m                                    for j in range(len(input_train_data)))\n\u001b[1;32m     64\u001b[0m \u001b[0;34m\u001b[0m\u001b[0m\n",
      "\u001b[0;32m~/PycharmProjects/ITIBLabs/fourth/services.py\u001b[0m in \u001b[0;36mget_fi\u001b[0;34m(self, input_data)\u001b[0m\n\u001b[1;32m     40\u001b[0m \u001b[0;34m\u001b[0m\u001b[0m\n\u001b[1;32m     41\u001b[0m     \u001b[0;32mdef\u001b[0m \u001b[0mget_fi\u001b[0m\u001b[0;34m(\u001b[0m\u001b[0mself\u001b[0m\u001b[0;34m,\u001b[0m \u001b[0minput_data\u001b[0m\u001b[0;34m:\u001b[0m \u001b[0mList\u001b[0m\u001b[0;34m[\u001b[0m\u001b[0mint\u001b[0m\u001b[0;34m]\u001b[0m\u001b[0;34m)\u001b[0m \u001b[0;34m->\u001b[0m \u001b[0mList\u001b[0m\u001b[0;34m[\u001b[0m\u001b[0mfloat\u001b[0m\u001b[0;34m]\u001b[0m\u001b[0;34m:\u001b[0m\u001b[0;34m\u001b[0m\u001b[0;34m\u001b[0m\u001b[0m\n\u001b[0;32m---> 42\u001b[0;31m         return [math.exp(-sum([math.pow(input_data[i] - self.rbf[j][i], 2) for i in range(len(input_data))]))\n\u001b[0m\u001b[1;32m     43\u001b[0m                 for j in range(len(self.rbf))]\n\u001b[1;32m     44\u001b[0m \u001b[0;34m\u001b[0m\u001b[0m\n",
      "\u001b[0;32m~/PycharmProjects/ITIBLabs/fourth/services.py\u001b[0m in \u001b[0;36m<listcomp>\u001b[0;34m(.0)\u001b[0m\n\u001b[1;32m     40\u001b[0m \u001b[0;34m\u001b[0m\u001b[0m\n\u001b[1;32m     41\u001b[0m     \u001b[0;32mdef\u001b[0m \u001b[0mget_fi\u001b[0m\u001b[0;34m(\u001b[0m\u001b[0mself\u001b[0m\u001b[0;34m,\u001b[0m \u001b[0minput_data\u001b[0m\u001b[0;34m:\u001b[0m \u001b[0mList\u001b[0m\u001b[0;34m[\u001b[0m\u001b[0mint\u001b[0m\u001b[0;34m]\u001b[0m\u001b[0;34m)\u001b[0m \u001b[0;34m->\u001b[0m \u001b[0mList\u001b[0m\u001b[0;34m[\u001b[0m\u001b[0mfloat\u001b[0m\u001b[0;34m]\u001b[0m\u001b[0;34m:\u001b[0m\u001b[0;34m\u001b[0m\u001b[0;34m\u001b[0m\u001b[0m\n\u001b[0;32m---> 42\u001b[0;31m         return [math.exp(-sum([math.pow(input_data[i] - self.rbf[j][i], 2) for i in range(len(input_data))]))\n\u001b[0m\u001b[1;32m     43\u001b[0m                 for j in range(len(self.rbf))]\n\u001b[1;32m     44\u001b[0m \u001b[0;34m\u001b[0m\u001b[0m\n",
      "\u001b[0;32m~/PycharmProjects/ITIBLabs/fourth/services.py\u001b[0m in \u001b[0;36m<listcomp>\u001b[0;34m(.0)\u001b[0m\n\u001b[1;32m     40\u001b[0m \u001b[0;34m\u001b[0m\u001b[0m\n\u001b[1;32m     41\u001b[0m     \u001b[0;32mdef\u001b[0m \u001b[0mget_fi\u001b[0m\u001b[0;34m(\u001b[0m\u001b[0mself\u001b[0m\u001b[0;34m,\u001b[0m \u001b[0minput_data\u001b[0m\u001b[0;34m:\u001b[0m \u001b[0mList\u001b[0m\u001b[0;34m[\u001b[0m\u001b[0mint\u001b[0m\u001b[0;34m]\u001b[0m\u001b[0;34m)\u001b[0m \u001b[0;34m->\u001b[0m \u001b[0mList\u001b[0m\u001b[0;34m[\u001b[0m\u001b[0mfloat\u001b[0m\u001b[0;34m]\u001b[0m\u001b[0;34m:\u001b[0m\u001b[0;34m\u001b[0m\u001b[0;34m\u001b[0m\u001b[0m\n\u001b[0;32m---> 42\u001b[0;31m         return [math.exp(-sum([math.pow(input_data[i] - self.rbf[j][i], 2) for i in range(len(input_data))]))\n\u001b[0m\u001b[1;32m     43\u001b[0m                 for j in range(len(self.rbf))]\n\u001b[1;32m     44\u001b[0m \u001b[0;34m\u001b[0m\u001b[0m\n",
      "\u001b[0;31mIndexError\u001b[0m: list index out of range"
     ]
    }
   ],
   "source": [
    "data = []\n",
    "epoch_number = 0\n",
    "count_errors = 1\n",
    "errors = []\n",
    "epochs = []\n",
    "nn = NeuralNetwork(learning_rate=0.1, activation_function=first_af, derivative_function=first_df)\n",
    "\n",
    "while count_errors:\n",
    "    epoch_number += 1\n",
    "    current_weights = copy(nn.weights)\n",
    "    count_errors = nn.epoch(FULL_TRAIN_DATA)\n",
    "\n",
    "    data.append([epoch_number,\n",
    "                 f'({current_weights[1]:.3}, {current_weights[2]:.3}, {current_weights[3]:.3}, {current_weights[4]:.3}, {current_weights[0]:.3})',\n",
    "                 f'({\", \".join(map(str, nn.current_nn_output))})',\n",
    "                 nn.current_error_count])\n",
    "    epochs.append(epoch_number)\n",
    "    errors.append(count_errors)\n",
    "\n",
    "pd.DataFrame(data, columns=('Номер эпохи k', 'Вектор весов w', 'Выходной вектор y', 'Суммарная ошибка E'))"
   ]
  },
  {
   "cell_type": "markdown",
   "id": "846fff2c",
   "metadata": {},
   "source": [
    "<b> График ошибки </b>"
   ]
  },
  {
   "cell_type": "code",
   "execution_count": 4,
   "id": "30b37d74",
   "metadata": {
    "pycharm": {
     "name": "#%%\n"
    }
   },
   "outputs": [
    {
     "data": {
      "image/png": "[encoded data removed]",
      "text/plain": [
       "<Figure size 432x288 with 1 Axes>"
      ]
     },
     "metadata": {
      "needs_background": "light"
     },
     "output_type": "display_data"
    }
   ],
   "source": [
    "plt.plot(epochs, errors)\n",
    "plt.xlabel('Epochs')\n",
    "plt.ylabel('Errors')\n",
    "plt.xticks([x for x in range(len(epochs) + 1)], [x for x in range(len(epochs) + 1)])\n",
    "plt.yticks([x for x in range(max(errors) + 1)], [x for x in range(max(errors) + 1)])\n",
    "plt.show()\n"
   ]
  },
  {
   "cell_type": "markdown",
   "id": "obvious-grounds",
   "metadata": {},
   "source": [
    "<b> Нахождение минимальной выборки для обучения </b>"
   ]
  },
  {
   "cell_type": "code",
   "execution_count": 5,
   "id": "potential-feelings",
   "metadata": {
    "pycharm": {
     "name": "#%%\n"
    }
   },
   "outputs": [
    {
     "name": "stdout",
     "output_type": "stream",
     "text": [
      "Min sample: [[0, 0, 0, 0], [0, 0, 1, 0], [1, 1, 0, 0]]\n",
      "\n"
     ]
    },
    {
     "data": {
      "text/html": [
       "<div>\n",
       "<style scoped>\n",
       "    .dataframe tbody tr th:only-of-type {\n",
       "        vertical-align: middle;\n",
       "    }\n",
       "\n",
       "    .dataframe tbody tr th {\n",
       "        vertical-align: top;\n",
       "    }\n",
       "\n",
       "    .dataframe thead th {\n",
       "        text-align: right;\n",
       "    }\n",
       "</style>\n",
       "<table border=\"1\" class=\"dataframe\">\n",
       "  <thead>\n",
       "    <tr style=\"text-align: right;\">\n",
       "      <th></th>\n",
       "      <th>Номер эпохи k</th>\n",
       "      <th>Вектор весов w</th>\n",
       "      <th>Выходной вектор y</th>\n",
       "      <th>Суммарная ошибка E</th>\n",
       "    </tr>\n",
       "  </thead>\n",
       "  <tbody>\n",
       "    <tr>\n",
       "      <th>0</th>\n",
       "      <td>1</td>\n",
       "      <td>(1.0, 1.0, 1.0, 1.0, 1.0)</td>\n",
       "      <td>(1, 1, 1, 1, 1, 1, 1, 1, 1, 1, 1, 1, 1, 1, 1, 1)</td>\n",
       "      <td>9</td>\n",
       "    </tr>\n",
       "    <tr>\n",
       "      <th>1</th>\n",
       "      <td>2</td>\n",
       "      <td>(0.6, 0.6, 0.6, 1.0, -0.2)</td>\n",
       "      <td>(0, 1, 1, 1, 1, 1, 1, 1, 1, 1, 1, 1, 1, 1, 1, 1)</td>\n",
       "      <td>8</td>\n",
       "    </tr>\n",
       "    <tr>\n",
       "      <th>2</th>\n",
       "      <td>3</td>\n",
       "      <td>(0.2, 0.2, 0.2, 1.0, -1.0)</td>\n",
       "      <td>(0, 0, 0, 1, 0, 1, 0, 1, 0, 1, 0, 1, 0, 1, 0, 1)</td>\n",
       "      <td>0</td>\n",
       "    </tr>\n",
       "  </tbody>\n",
       "</table>\n",
       "</div>"
      ],
      "text/plain": [
       "   Номер эпохи k              Вектор весов w  \\\n",
       "0              1   (1.0, 1.0, 1.0, 1.0, 1.0)   \n",
       "1              2  (0.6, 0.6, 0.6, 1.0, -0.2)   \n",
       "2              3  (0.2, 0.2, 0.2, 1.0, -1.0)   \n",
       "\n",
       "                                  Выходной вектор y  Суммарная ошибка E  \n",
       "0  (1, 1, 1, 1, 1, 1, 1, 1, 1, 1, 1, 1, 1, 1, 1, 1)                   9  \n",
       "1  (0, 1, 1, 1, 1, 1, 1, 1, 1, 1, 1, 1, 1, 1, 1, 1)                   8  \n",
       "2  (0, 0, 0, 1, 0, 1, 0, 1, 0, 1, 0, 1, 0, 1, 0, 1)                   0  "
      ]
     },
     "execution_count": 5,
     "metadata": {},
     "output_type": "execute_result"
    }
   ],
   "source": [
    "nn = NeuralNetwork(learning_rate=0.4, activation_function=first_af, derivative_function=first_df)\n",
    "main_min_sample = get_min_sample(nn)\n",
    "print(f'Min sample: {main_min_sample}', end='\\n\\n')\n",
    "nn.reset()\n",
    "\n",
    "data = []\n",
    "epoch_number = 0\n",
    "count_errors = 1\n",
    "errors = []\n",
    "epochs = []\n",
    "\n",
    "while count_errors:\n",
    "    epoch_number += 1\n",
    "    current_weights = copy(nn.weights)\n",
    "    count_errors = nn.partial_epoch(main_min_sample, set_expected_output_data(main_min_sample))\n",
    "    data.append([epoch_number,\n",
    "                 f'({current_weights[1]:.3}, {current_weights[2]:.3}, {current_weights[3]:.3}, {current_weights[4]:.3}, {current_weights[0]:.3})',\n",
    "                 f'({\", \".join(map(str, nn.current_nn_output))})',\n",
    "                 nn.current_error_count])\n",
    "    epochs.append(epoch_number)\n",
    "    errors.append(count_errors)\n",
    "\n",
    "pd.DataFrame(data, columns=('Номер эпохи k', 'Вектор весов w', 'Выходной вектор y', 'Суммарная ошибка E'))"
   ]
  },
  {
   "cell_type": "markdown",
   "id": "parliamentary-table",
   "metadata": {},
   "source": [
    "<b> График ошибки </b>"
   ]
  },
  {
   "cell_type": "code",
   "execution_count": 6,
   "id": "veterinary-father",
   "metadata": {
    "pycharm": {
     "name": "#%%\n"
    }
   },
   "outputs": [
    {
     "data": {
      "image/png": "[encoded data removed]",
      "text/plain": [
       "<Figure size 432x288 with 1 Axes>"
      ]
     },
     "metadata": {
      "needs_background": "light"
     },
     "output_type": "display_data"
    }
   ],
   "source": [
    "plt.plot(epochs, errors)\n",
    "plt.xlabel('Epochs')\n",
    "plt.ylabel('Errors')\n",
    "plt.xticks([x for x in range(len(epochs) + 1)], [x for x in range(len(epochs) + 1)])\n",
    "plt.yticks([x for x in range(max(errors) + 1)], [x for x in range(max(errors) + 1)])\n",
    "plt.show()"
   ]
  },
  {
   "cell_type": "markdown",
   "id": "e64317dd",
   "metadata": {},
   "source": [
    "***\n",
    "\n",
    "## Функция активации №3\n",
    "\n",
    "$$f(net) = \\dfrac{1}{1 + exp(-net)}$$"
   ]
  },
  {
   "cell_type": "code",
   "execution_count": 7,
   "id": "56544446",
   "metadata": {
    "pycharm": {
     "name": "#%%\n"
    }
   },
   "outputs": [
    {
     "data": {
      "text/html": [
       "<div>\n",
       "<style scoped>\n",
       "    .dataframe tbody tr th:only-of-type {\n",
       "        vertical-align: middle;\n",
       "    }\n",
       "\n",
       "    .dataframe tbody tr th {\n",
       "        vertical-align: top;\n",
       "    }\n",
       "\n",
       "    .dataframe thead th {\n",
       "        text-align: right;\n",
       "    }\n",
       "</style>\n",
       "<table border=\"1\" class=\"dataframe\">\n",
       "  <thead>\n",
       "    <tr style=\"text-align: right;\">\n",
       "      <th></th>\n",
       "      <th>Номер эпохи k</th>\n",
       "      <th>Вектор весов w</th>\n",
       "      <th>Выходной вектор y</th>\n",
       "      <th>Суммарная ошибка E</th>\n",
       "    </tr>\n",
       "  </thead>\n",
       "  <tbody>\n",
       "    <tr>\n",
       "      <th>0</th>\n",
       "      <td>1</td>\n",
       "      <td>(1.0, 1.0, 1.0, 1.0, 1.0)</td>\n",
       "      <td>(1, 1, 1, 1, 1, 1, 1, 1, 1, 1, 1, 1, 1, 1, 1, 1)</td>\n",
       "      <td>9</td>\n",
       "    </tr>\n",
       "    <tr>\n",
       "      <th>1</th>\n",
       "      <td>2</td>\n",
       "      <td>(0.954, 0.952, 0.951, 0.944, 0.818)</td>\n",
       "      <td>(1, 1, 1, 1, 1, 1, 1, 1, 1, 1, 1, 1, 1, 1, 1, 1)</td>\n",
       "      <td>9</td>\n",
       "    </tr>\n",
       "    <tr>\n",
       "      <th>2</th>\n",
       "      <td>3</td>\n",
       "      <td>(0.889, 0.884, 0.881, 0.876, 0.59)</td>\n",
       "      <td>(1, 1, 1, 1, 1, 1, 1, 1, 1, 1, 1, 1, 1, 1, 1, 1)</td>\n",
       "      <td>9</td>\n",
       "    </tr>\n",
       "    <tr>\n",
       "      <th>3</th>\n",
       "      <td>4</td>\n",
       "      <td>(0.792, 0.778, 0.772, 0.791, 0.292)</td>\n",
       "      <td>(1, 1, 1, 1, 1, 1, 1, 1, 1, 1, 1, 1, 1, 1, 1, 1)</td>\n",
       "      <td>9</td>\n",
       "    </tr>\n",
       "    <tr>\n",
       "      <th>4</th>\n",
       "      <td>5</td>\n",
       "      <td>(0.623, 0.586, 0.57, 0.685, -0.132)</td>\n",
       "      <td>(0, 1, 1, 1, 1, 1, 1, 1, 1, 1, 1, 1, 1, 1, 1, 1)</td>\n",
       "      <td>8</td>\n",
       "    </tr>\n",
       "    <tr>\n",
       "      <th>5</th>\n",
       "      <td>6</td>\n",
       "      <td>(0.295, 0.212, 0.173, 0.577, -0.701)</td>\n",
       "      <td>(0, 0, 0, 1, 0, 1, 0, 1, 0, 1, 0, 1, 0, 1, 0, 1)</td>\n",
       "      <td>0</td>\n",
       "    </tr>\n",
       "  </tbody>\n",
       "</table>\n",
       "</div>"
      ],
      "text/plain": [
       "   Номер эпохи k                        Вектор весов w  \\\n",
       "0              1             (1.0, 1.0, 1.0, 1.0, 1.0)   \n",
       "1              2   (0.954, 0.952, 0.951, 0.944, 0.818)   \n",
       "2              3    (0.889, 0.884, 0.881, 0.876, 0.59)   \n",
       "3              4   (0.792, 0.778, 0.772, 0.791, 0.292)   \n",
       "4              5   (0.623, 0.586, 0.57, 0.685, -0.132)   \n",
       "5              6  (0.295, 0.212, 0.173, 0.577, -0.701)   \n",
       "\n",
       "                                  Выходной вектор y  Суммарная ошибка E  \n",
       "0  (1, 1, 1, 1, 1, 1, 1, 1, 1, 1, 1, 1, 1, 1, 1, 1)                   9  \n",
       "1  (1, 1, 1, 1, 1, 1, 1, 1, 1, 1, 1, 1, 1, 1, 1, 1)                   9  \n",
       "2  (1, 1, 1, 1, 1, 1, 1, 1, 1, 1, 1, 1, 1, 1, 1, 1)                   9  \n",
       "3  (1, 1, 1, 1, 1, 1, 1, 1, 1, 1, 1, 1, 1, 1, 1, 1)                   9  \n",
       "4  (0, 1, 1, 1, 1, 1, 1, 1, 1, 1, 1, 1, 1, 1, 1, 1)                   8  \n",
       "5  (0, 0, 0, 1, 0, 1, 0, 1, 0, 1, 0, 1, 0, 1, 0, 1)                   0  "
      ]
     },
     "execution_count": 7,
     "metadata": {},
     "output_type": "execute_result"
    }
   ],
   "source": [
    "data = []\n",
    "epoch_number = 0\n",
    "count_errors = 1\n",
    "errors = []\n",
    "epochs = []\n",
    "nn = NeuralNetwork(learning_rate=0.45, activation_function=third_af, derivative_function=third_df)\n",
    "\n",
    "while count_errors:\n",
    "    epoch_number += 1\n",
    "    current_weights = copy(nn.weights)\n",
    "    count_errors = nn.epoch(FULL_TRAIN_DATA)\n",
    "\n",
    "    data.append([epoch_number,\n",
    "                 f'({current_weights[1]:.3}, {current_weights[2]:.3}, {current_weights[3]:.3}, {current_weights[4]:.3}, {current_weights[0]:.3})',\n",
    "                 f'({\", \".join(map(str, nn.current_nn_output))})',\n",
    "                 nn.current_error_count])\n",
    "    epochs.append(epoch_number)\n",
    "    errors.append(count_errors)\n",
    "\n",
    "pd.DataFrame(data, columns=('Номер эпохи k', 'Вектор весов w', 'Выходной вектор y', 'Суммарная ошибка E'))\n"
   ]
  },
  {
   "cell_type": "markdown",
   "id": "73d35d3f",
   "metadata": {},
   "source": [
    "<b> График ошибки </b>"
   ]
  },
  {
   "cell_type": "code",
   "execution_count": 8,
   "id": "8fe815b4",
   "metadata": {
    "pycharm": {
     "name": "#%%\n"
    }
   },
   "outputs": [
    {
     "data": {
      "image/png": "[encoded data removed]",
      "text/plain": [
       "<Figure size 432x288 with 1 Axes>"
      ]
     },
     "metadata": {
      "needs_background": "light"
     },
     "output_type": "display_data"
    }
   ],
   "source": [
    "plt.plot(epochs, errors)\n",
    "plt.xlabel('Epochs')\n",
    "plt.ylabel('Errors')\n",
    "plt.xticks([x for x in range(len(epochs) + 1)], [x for x in range(len(epochs) + 1)])\n",
    "plt.yticks([x for x in range(max(errors) + 1)], [x for x in range(max(errors) + 1)])\n",
    "plt.show()\n"
   ]
  },
  {
   "cell_type": "markdown",
   "id": "7c12084b",
   "metadata": {
    "pycharm": {
     "name": "#%% md\n"
    }
   },
   "source": [
    "<b> Нахождение минимальной выборки для обучения </b>"
   ]
  },
  {
   "cell_type": "code",
   "execution_count": 9,
   "id": "0cde935d",
   "metadata": {
    "pycharm": {
     "name": "#%%\n"
    }
   },
   "outputs": [
    {
     "name": "stdout",
     "output_type": "stream",
     "text": [
      "Min sample: [[0, 0, 0, 1], [0, 0, 1, 0], [0, 0, 1, 1], [1, 1, 1, 0]]\n",
      "\n"
     ]
    },
    {
     "data": {
      "text/html": [
       "<div>\n",
       "<style scoped>\n",
       "    .dataframe tbody tr th:only-of-type {\n",
       "        vertical-align: middle;\n",
       "    }\n",
       "\n",
       "    .dataframe tbody tr th {\n",
       "        vertical-align: top;\n",
       "    }\n",
       "\n",
       "    .dataframe thead th {\n",
       "        text-align: right;\n",
       "    }\n",
       "</style>\n",
       "<table border=\"1\" class=\"dataframe\">\n",
       "  <thead>\n",
       "    <tr style=\"text-align: right;\">\n",
       "      <th></th>\n",
       "      <th>Номер эпохи k</th>\n",
       "      <th>Вектор весов w</th>\n",
       "      <th>Выходной вектор y</th>\n",
       "      <th>Суммарная ошибка E</th>\n",
       "    </tr>\n",
       "  </thead>\n",
       "  <tbody>\n",
       "    <tr>\n",
       "      <th>0</th>\n",
       "      <td>1</td>\n",
       "      <td>(1.0, 1.0, 1.0, 1.0, 1.0)</td>\n",
       "      <td>(1, 1, 1, 1, 1, 1, 1, 1, 1, 1, 1, 1, 1, 1, 1, 1)</td>\n",
       "      <td>9</td>\n",
       "    </tr>\n",
       "    <tr>\n",
       "      <th>1</th>\n",
       "      <td>2</td>\n",
       "      <td>(0.997, 0.997, 0.977, 0.954, 0.934)</td>\n",
       "      <td>(1, 1, 1, 1, 1, 1, 1, 1, 1, 1, 1, 1, 1, 1, 1, 1)</td>\n",
       "      <td>9</td>\n",
       "    </tr>\n",
       "    <tr>\n",
       "      <th>2</th>\n",
       "      <td>3</td>\n",
       "      <td>(0.994, 0.994, 0.951, 0.904, 0.863)</td>\n",
       "      <td>(1, 1, 1, 1, 1, 1, 1, 1, 1, 1, 1, 1, 1, 1, 1, 1)</td>\n",
       "      <td>9</td>\n",
       "    </tr>\n",
       "    <tr>\n",
       "      <th>3</th>\n",
       "      <td>4</td>\n",
       "      <td>(0.99, 0.99, 0.922, 0.853, 0.787)</td>\n",
       "      <td>(1, 1, 1, 1, 1, 1, 1, 1, 1, 1, 1, 1, 1, 1, 1, 1)</td>\n",
       "      <td>9</td>\n",
       "    </tr>\n",
       "    <tr>\n",
       "      <th>4</th>\n",
       "      <td>5</td>\n",
       "      <td>(0.985, 0.985, 0.888, 0.797, 0.704)</td>\n",
       "      <td>(1, 1, 1, 1, 1, 1, 1, 1, 1, 1, 1, 1, 1, 1, 1, 1)</td>\n",
       "      <td>9</td>\n",
       "    </tr>\n",
       "    <tr>\n",
       "      <th>5</th>\n",
       "      <td>6</td>\n",
       "      <td>(0.979, 0.979, 0.85, 0.738, 0.614)</td>\n",
       "      <td>(1, 1, 1, 1, 1, 1, 1, 1, 1, 1, 1, 1, 1, 1, 1, 1)</td>\n",
       "      <td>9</td>\n",
       "    </tr>\n",
       "    <tr>\n",
       "      <th>6</th>\n",
       "      <td>7</td>\n",
       "      <td>(0.972, 0.972, 0.806, 0.675, 0.515)</td>\n",
       "      <td>(1, 1, 1, 1, 1, 1, 1, 1, 1, 1, 1, 1, 1, 1, 1, 1)</td>\n",
       "      <td>9</td>\n",
       "    </tr>\n",
       "    <tr>\n",
       "      <th>7</th>\n",
       "      <td>8</td>\n",
       "      <td>(0.963, 0.963, 0.755, 0.607, 0.405)</td>\n",
       "      <td>(1, 1, 1, 1, 1, 1, 1, 1, 1, 1, 1, 1, 1, 1, 1, 1)</td>\n",
       "      <td>9</td>\n",
       "    </tr>\n",
       "    <tr>\n",
       "      <th>8</th>\n",
       "      <td>9</td>\n",
       "      <td>(0.952, 0.952, 0.694, 0.534, 0.282)</td>\n",
       "      <td>(1, 1, 1, 1, 1, 1, 1, 1, 1, 1, 1, 1, 1, 1, 1, 1)</td>\n",
       "      <td>9</td>\n",
       "    </tr>\n",
       "    <tr>\n",
       "      <th>9</th>\n",
       "      <td>10</td>\n",
       "      <td>(0.937, 0.937, 0.62, 0.454, 0.144)</td>\n",
       "      <td>(1, 1, 1, 1, 1, 1, 1, 1, 1, 1, 1, 1, 1, 1, 1, 1)</td>\n",
       "      <td>9</td>\n",
       "    </tr>\n",
       "    <tr>\n",
       "      <th>10</th>\n",
       "      <td>11</td>\n",
       "      <td>(0.917, 0.916, 0.531, 0.368, -0.0144)</td>\n",
       "      <td>(0, 1, 1, 1, 1, 1, 1, 1, 1, 1, 1, 1, 1, 1, 1, 1)</td>\n",
       "      <td>8</td>\n",
       "    </tr>\n",
       "    <tr>\n",
       "      <th>11</th>\n",
       "      <td>12</td>\n",
       "      <td>(0.889, 0.887, 0.421, 0.275, -0.197)</td>\n",
       "      <td>(0, 1, 1, 1, 1, 1, 1, 1, 1, 1, 1, 1, 1, 1, 1, 1)</td>\n",
       "      <td>8</td>\n",
       "    </tr>\n",
       "    <tr>\n",
       "      <th>12</th>\n",
       "      <td>13</td>\n",
       "      <td>(0.847, 0.844, 0.283, 0.175, -0.41)</td>\n",
       "      <td>(0, 0, 0, 1, 1, 1, 1, 1, 1, 1, 1, 1, 1, 1, 1, 1)</td>\n",
       "      <td>6</td>\n",
       "    </tr>\n",
       "    <tr>\n",
       "      <th>13</th>\n",
       "      <td>14</td>\n",
       "      <td>(0.791, 0.786, 0.224, 0.175, -0.463)</td>\n",
       "      <td>(0, 0, 0, 0, 1, 1, 1, 1, 1, 1, 1, 1, 1, 1, 1, 1)</td>\n",
       "      <td>7</td>\n",
       "    </tr>\n",
       "    <tr>\n",
       "      <th>14</th>\n",
       "      <td>15</td>\n",
       "      <td>(0.731, 0.723, 0.257, 0.274, -0.426)</td>\n",
       "      <td>(0, 0, 0, 1, 1, 1, 1, 1, 1, 1, 1, 1, 1, 1, 1, 1)</td>\n",
       "      <td>6</td>\n",
       "    </tr>\n",
       "    <tr>\n",
       "      <th>15</th>\n",
       "      <td>16</td>\n",
       "      <td>(0.668, 0.658, 0.189, 0.274, -0.487)</td>\n",
       "      <td>(0, 0, 0, 0, 1, 1, 1, 1, 1, 1, 1, 1, 1, 1, 1, 1)</td>\n",
       "      <td>7</td>\n",
       "    </tr>\n",
       "    <tr>\n",
       "      <th>16</th>\n",
       "      <td>17</td>\n",
       "      <td>(0.599, 0.586, 0.215, 0.375, -0.458)</td>\n",
       "      <td>(0, 0, 0, 1, 1, 1, 1, 1, 1, 1, 1, 1, 1, 1, 1, 1)</td>\n",
       "      <td>6</td>\n",
       "    </tr>\n",
       "    <tr>\n",
       "      <th>17</th>\n",
       "      <td>18</td>\n",
       "      <td>(0.526, 0.51, 0.136, 0.375, -0.528)</td>\n",
       "      <td>(0, 0, 0, 0, 0, 1, 1, 1, 0, 1, 1, 1, 1, 1, 1, 1)</td>\n",
       "      <td>5</td>\n",
       "    </tr>\n",
       "    <tr>\n",
       "      <th>18</th>\n",
       "      <td>19</td>\n",
       "      <td>(0.445, 0.426, 0.151, 0.477, -0.508)</td>\n",
       "      <td>(0, 0, 0, 1, 0, 1, 1, 1, 0, 1, 1, 1, 1, 1, 1, 1)</td>\n",
       "      <td>4</td>\n",
       "    </tr>\n",
       "    <tr>\n",
       "      <th>19</th>\n",
       "      <td>20</td>\n",
       "      <td>(0.359, 0.337, 0.0591, 0.477, -0.591)</td>\n",
       "      <td>(0, 0, 0, 0, 0, 1, 0, 1, 0, 1, 0, 1, 1, 1, 1, 1)</td>\n",
       "      <td>3</td>\n",
       "    </tr>\n",
       "    <tr>\n",
       "      <th>20</th>\n",
       "      <td>21</td>\n",
       "      <td>(0.264, 0.239, 0.0638, 0.581, -0.583)</td>\n",
       "      <td>(0, 0, 0, 1, 0, 1, 0, 1, 0, 1, 0, 1, 0, 1, 0, 1)</td>\n",
       "      <td>0</td>\n",
       "    </tr>\n",
       "  </tbody>\n",
       "</table>\n",
       "</div>"
      ],
      "text/plain": [
       "    Номер эпохи k                         Вектор весов w  \\\n",
       "0               1              (1.0, 1.0, 1.0, 1.0, 1.0)   \n",
       "1               2    (0.997, 0.997, 0.977, 0.954, 0.934)   \n",
       "2               3    (0.994, 0.994, 0.951, 0.904, 0.863)   \n",
       "3               4      (0.99, 0.99, 0.922, 0.853, 0.787)   \n",
       "4               5    (0.985, 0.985, 0.888, 0.797, 0.704)   \n",
       "5               6     (0.979, 0.979, 0.85, 0.738, 0.614)   \n",
       "6               7    (0.972, 0.972, 0.806, 0.675, 0.515)   \n",
       "7               8    (0.963, 0.963, 0.755, 0.607, 0.405)   \n",
       "8               9    (0.952, 0.952, 0.694, 0.534, 0.282)   \n",
       "9              10     (0.937, 0.937, 0.62, 0.454, 0.144)   \n",
       "10             11  (0.917, 0.916, 0.531, 0.368, -0.0144)   \n",
       "11             12   (0.889, 0.887, 0.421, 0.275, -0.197)   \n",
       "12             13    (0.847, 0.844, 0.283, 0.175, -0.41)   \n",
       "13             14   (0.791, 0.786, 0.224, 0.175, -0.463)   \n",
       "14             15   (0.731, 0.723, 0.257, 0.274, -0.426)   \n",
       "15             16   (0.668, 0.658, 0.189, 0.274, -0.487)   \n",
       "16             17   (0.599, 0.586, 0.215, 0.375, -0.458)   \n",
       "17             18    (0.526, 0.51, 0.136, 0.375, -0.528)   \n",
       "18             19   (0.445, 0.426, 0.151, 0.477, -0.508)   \n",
       "19             20  (0.359, 0.337, 0.0591, 0.477, -0.591)   \n",
       "20             21  (0.264, 0.239, 0.0638, 0.581, -0.583)   \n",
       "\n",
       "                                   Выходной вектор y  Суммарная ошибка E  \n",
       "0   (1, 1, 1, 1, 1, 1, 1, 1, 1, 1, 1, 1, 1, 1, 1, 1)                   9  \n",
       "1   (1, 1, 1, 1, 1, 1, 1, 1, 1, 1, 1, 1, 1, 1, 1, 1)                   9  \n",
       "2   (1, 1, 1, 1, 1, 1, 1, 1, 1, 1, 1, 1, 1, 1, 1, 1)                   9  \n",
       "3   (1, 1, 1, 1, 1, 1, 1, 1, 1, 1, 1, 1, 1, 1, 1, 1)                   9  \n",
       "4   (1, 1, 1, 1, 1, 1, 1, 1, 1, 1, 1, 1, 1, 1, 1, 1)                   9  \n",
       "5   (1, 1, 1, 1, 1, 1, 1, 1, 1, 1, 1, 1, 1, 1, 1, 1)                   9  \n",
       "6   (1, 1, 1, 1, 1, 1, 1, 1, 1, 1, 1, 1, 1, 1, 1, 1)                   9  \n",
       "7   (1, 1, 1, 1, 1, 1, 1, 1, 1, 1, 1, 1, 1, 1, 1, 1)                   9  \n",
       "8   (1, 1, 1, 1, 1, 1, 1, 1, 1, 1, 1, 1, 1, 1, 1, 1)                   9  \n",
       "9   (1, 1, 1, 1, 1, 1, 1, 1, 1, 1, 1, 1, 1, 1, 1, 1)                   9  \n",
       "10  (0, 1, 1, 1, 1, 1, 1, 1, 1, 1, 1, 1, 1, 1, 1, 1)                   8  \n",
       "11  (0, 1, 1, 1, 1, 1, 1, 1, 1, 1, 1, 1, 1, 1, 1, 1)                   8  \n",
       "12  (0, 0, 0, 1, 1, 1, 1, 1, 1, 1, 1, 1, 1, 1, 1, 1)                   6  \n",
       "13  (0, 0, 0, 0, 1, 1, 1, 1, 1, 1, 1, 1, 1, 1, 1, 1)                   7  \n",
       "14  (0, 0, 0, 1, 1, 1, 1, 1, 1, 1, 1, 1, 1, 1, 1, 1)                   6  \n",
       "15  (0, 0, 0, 0, 1, 1, 1, 1, 1, 1, 1, 1, 1, 1, 1, 1)                   7  \n",
       "16  (0, 0, 0, 1, 1, 1, 1, 1, 1, 1, 1, 1, 1, 1, 1, 1)                   6  \n",
       "17  (0, 0, 0, 0, 0, 1, 1, 1, 0, 1, 1, 1, 1, 1, 1, 1)                   5  \n",
       "18  (0, 0, 0, 1, 0, 1, 1, 1, 0, 1, 1, 1, 1, 1, 1, 1)                   4  \n",
       "19  (0, 0, 0, 0, 0, 1, 0, 1, 0, 1, 0, 1, 1, 1, 1, 1)                   3  \n",
       "20  (0, 0, 0, 1, 0, 1, 0, 1, 0, 1, 0, 1, 0, 1, 0, 1)                   0  "
      ]
     },
     "execution_count": 9,
     "metadata": {},
     "output_type": "execute_result"
    }
   ],
   "source": [
    "nn = NeuralNetwork(learning_rate=0.42, activation_function=third_af, derivative_function=third_df)\n",
    "main_min_sample = get_min_sample(nn)\n",
    "print(f'Min sample: {main_min_sample}', end='\\n\\n')\n",
    "nn.reset()\n",
    "\n",
    "data = []\n",
    "epoch_number = 0\n",
    "count_errors = 1\n",
    "errors = []\n",
    "epochs = []\n",
    "\n",
    "while count_errors:\n",
    "    epoch_number += 1\n",
    "    current_weights = copy(nn.weights)\n",
    "    count_errors = nn.partial_epoch(main_min_sample, set_expected_output_data(main_min_sample))\n",
    "    data.append([epoch_number,\n",
    "                 f'({current_weights[1]:.3}, {current_weights[2]:.3}, {current_weights[3]:.3}, {current_weights[4]:.3}, {current_weights[0]:.3})',\n",
    "                 f'({\", \".join(map(str, nn.current_nn_output))})',\n",
    "                 nn.current_error_count])\n",
    "    epochs.append(epoch_number)\n",
    "    errors.append(count_errors)\n",
    "\n",
    "pd.DataFrame(data, columns=('Номер эпохи k', 'Вектор весов w', 'Выходной вектор y', 'Суммарная ошибка E'))"
   ]
  },
  {
   "cell_type": "markdown",
   "id": "italian-things",
   "metadata": {},
   "source": [
    "<b> График ошибки </b>"
   ]
  },
  {
   "cell_type": "code",
   "execution_count": 10,
   "id": "equivalent-curve",
   "metadata": {
    "pycharm": {
     "name": "#%%\n"
    }
   },
   "outputs": [
    {
     "data": {
      "image/png": "[encoded data removed]",
      "text/plain": [
       "<Figure size 432x288 with 1 Axes>"
      ]
     },
     "metadata": {
      "needs_background": "light"
     },
     "output_type": "display_data"
    }
   ],
   "source": [
    "plt.plot(epochs, errors)\n",
    "plt.xlabel('Epochs')\n",
    "plt.ylabel('Errors')\n",
    "plt.xticks([x for x in range(len(epochs) + 1)], [x for x in range(len(epochs) + 1)])\n",
    "plt.yticks([x for x in range(max(errors) + 1)], [x for x in range(max(errors) + 1)])\n",
    "plt.show()"
   ]
  }
 ],
 "metadata": {
  "kernelspec": {
   "display_name": "Python 3",
   "language": "python",
   "name": "python3"
  },
  "language_info": {
   "codemirror_mode": {
    "name": "ipython",
    "version": 3
   },
   "file_extension": ".py",
   "mimetype": "text/x-python",
   "name": "python",
   "nbconvert_exporter": "python",
   "pygments_lexer": "ipython3",
   "version": "3.9.6"
  }
 },
 "nbformat": 4,
 "nbformat_minor": 5
}
