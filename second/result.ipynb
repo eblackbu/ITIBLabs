{
 "cells": [
  {
   "cell_type": "markdown",
   "metadata": {
    "collapsed": true,
    "pycharm": {
     "name": "#%% md\n"
    }
   },
   "source": [
    "## Применение однослойной нейронной сети для решения задач регрессии экспериментальных данных\n"
   ]
  },
  {
   "cell_type": "code",
   "execution_count": 23,
   "outputs": [],
   "source": [
    "from services import *\n",
    "import pandas as pd\n",
    "import numpy as np\n",
    "from copy import copy\n",
    "import matplotlib.pyplot as plt\n"
   ],
   "metadata": {
    "collapsed": false,
    "pycharm": {
     "name": "#%%\n"
    }
   }
  },
  {
   "cell_type": "code",
   "execution_count": 24,
   "outputs": [
    {
     "data": {
      "text/plain": "<matplotlib.collections.PathCollection at 0x121ba6910>"
     },
     "execution_count": 24,
     "metadata": {},
     "output_type": "execute_result"
    },
    {
     "data": {
      "text/plain": "<Figure size 432x288 with 1 Axes>",
      "image/png": "[encoded data removed]"
     },
     "metadata": {
      "needs_background": "light"
     },
     "output_type": "display_data"
    }
   ],
   "source": [
    "N = 16\n",
    "x_start = -1\n",
    "x_end = 3\n",
    "y_start = 0\n",
    "y_end = 4\n",
    "c = 3\n",
    "d = 1\n",
    "\n",
    "x_points = np.random.uniform(low=x_start, high=x_end, size=N)\n",
    "A = np.random.normal(scale=3, size=x_points.size)\n",
    "y_points = c * x_points ** 2 + d + A\n",
    "\n",
    "true_c, true_d = mnk(list(zip(x_points, y_points)))\n",
    "\n",
    "true_x = np.linspace(-1, 4, 100)\n",
    "true_y = c * true_x ** 2 + d\n",
    "\n",
    "plt.plot(true_x, true_y)\n",
    "plt.scatter(x_points, y_points, c='red')"
   ],
   "metadata": {
    "collapsed": false,
    "pycharm": {
     "name": "#%%\n"
    }
   }
  }
 ],
 "metadata": {
  "kernelspec": {
   "display_name": "Python 3",
   "language": "python",
   "name": "python3"
  },
  "language_info": {
   "codemirror_mode": {
    "name": "ipython",
    "version": 2
   },
   "file_extension": ".py",
   "mimetype": "text/x-python",
   "name": "python",
   "nbconvert_exporter": "python",
   "pygments_lexer": "ipython2",
   "version": "2.7.6"
  }
 },
 "nbformat": 4,
 "nbformat_minor": 0
}