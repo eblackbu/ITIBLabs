{
 "cells": [
  {
   "cell_type": "markdown",
   "id": "478a39ca",
   "metadata": {
    "pycharm": {
     "name": "#%% md\n"
    }
   },
   "source": [
    "### Цель работы\n",
    "\n",
    "Исследовать функционирование простейшей нейронной сети (НС) на базе нейрона с нелинейной функцией активации и обучить её по правилу Видроу — Хоффа\n",
    "\n",
    "### Постановка задачи.\n",
    "\n",
    "Получить модель булевой функции (БФ) на основе однослойной НС (единичный нейрон) с двоичными входами 𝑥1,𝑥2,𝑥3,𝑥4∈{0,1}, единичным входом смещения 𝑥0=1, синаптическими весами 𝑤0,𝑤1,𝑤2,𝑤3,𝑤4, двоичным выходом 𝑦∈{0,1} и заданной нелинейной функцией активации (ФА) 𝑓:𝑅→(0,1) (рис. 1.1).\n",
    "\n",
    "Для заданной БФ (варианты см. в табл. 1.4) реализовать обучение НС с использованием:\n",
    "1. всех комбинаций переменных 𝑥1,𝑥2,𝑥3,𝑥4;\n",
    "2. части возможных комбинаций переменных 𝑥1,𝑥2,𝑥3,𝑥4;\n",
    "\n",
    "остальные комбинации являются тестовыми."
   ]
  },
  {
   "cell_type": "markdown",
   "id": "f0d664bb",
   "metadata": {},
   "source": [
    "## 8 вариант\n",
    "Моделируемая БФ:\n",
    "\n",
    "$$ f(net)= (x_1 + x_2 + x_4) * x_3 $$\n",
    "\n",
    "**Таблица истинности**"
   ]
  },
  {
   "cell_type": "code",
   "execution_count": 13,
   "outputs": [
    {
     "data": {
      "text/plain": "    x1  x2  x3  x4  F\n0    0   0   0   0  0\n1    0   0   0   1  0\n2    0   0   1   0  0\n3    0   0   1   1  1\n4    0   1   0   0  0\n5    0   1   0   1  0\n6    0   1   1   0  1\n7    0   1   1   1  1\n8    1   0   0   0  0\n9    1   0   0   1  0\n10   1   0   1   0  1\n11   1   0   1   1  1\n12   1   1   0   0  0\n13   1   1   0   1  0\n14   1   1   1   0  1\n15   1   1   1   1  1",
      "text/html": "<div>\n<style scoped>\n    .dataframe tbody tr th:only-of-type {\n        vertical-align: middle;\n    }\n\n    .dataframe tbody tr th {\n        vertical-align: top;\n    }\n\n    .dataframe thead th {\n        text-align: right;\n    }\n</style>\n<table border=\"1\" class=\"dataframe\">\n  <thead>\n    <tr style=\"text-align: right;\">\n      <th></th>\n      <th>x1</th>\n      <th>x2</th>\n      <th>x3</th>\n      <th>x4</th>\n      <th>F</th>\n    </tr>\n  </thead>\n  <tbody>\n    <tr>\n      <th>0</th>\n      <td>0</td>\n      <td>0</td>\n      <td>0</td>\n      <td>0</td>\n      <td>0</td>\n    </tr>\n    <tr>\n      <th>1</th>\n      <td>0</td>\n      <td>0</td>\n      <td>0</td>\n      <td>1</td>\n      <td>0</td>\n    </tr>\n    <tr>\n      <th>2</th>\n      <td>0</td>\n      <td>0</td>\n      <td>1</td>\n      <td>0</td>\n      <td>0</td>\n    </tr>\n    <tr>\n      <th>3</th>\n      <td>0</td>\n      <td>0</td>\n      <td>1</td>\n      <td>1</td>\n      <td>1</td>\n    </tr>\n    <tr>\n      <th>4</th>\n      <td>0</td>\n      <td>1</td>\n      <td>0</td>\n      <td>0</td>\n      <td>0</td>\n    </tr>\n    <tr>\n      <th>5</th>\n      <td>0</td>\n      <td>1</td>\n      <td>0</td>\n      <td>1</td>\n      <td>0</td>\n    </tr>\n    <tr>\n      <th>6</th>\n      <td>0</td>\n      <td>1</td>\n      <td>1</td>\n      <td>0</td>\n      <td>1</td>\n    </tr>\n    <tr>\n      <th>7</th>\n      <td>0</td>\n      <td>1</td>\n      <td>1</td>\n      <td>1</td>\n      <td>1</td>\n    </tr>\n    <tr>\n      <th>8</th>\n      <td>1</td>\n      <td>0</td>\n      <td>0</td>\n      <td>0</td>\n      <td>0</td>\n    </tr>\n    <tr>\n      <th>9</th>\n      <td>1</td>\n      <td>0</td>\n      <td>0</td>\n      <td>1</td>\n      <td>0</td>\n    </tr>\n    <tr>\n      <th>10</th>\n      <td>1</td>\n      <td>0</td>\n      <td>1</td>\n      <td>0</td>\n      <td>1</td>\n    </tr>\n    <tr>\n      <th>11</th>\n      <td>1</td>\n      <td>0</td>\n      <td>1</td>\n      <td>1</td>\n      <td>1</td>\n    </tr>\n    <tr>\n      <th>12</th>\n      <td>1</td>\n      <td>1</td>\n      <td>0</td>\n      <td>0</td>\n      <td>0</td>\n    </tr>\n    <tr>\n      <th>13</th>\n      <td>1</td>\n      <td>1</td>\n      <td>0</td>\n      <td>1</td>\n      <td>0</td>\n    </tr>\n    <tr>\n      <th>14</th>\n      <td>1</td>\n      <td>1</td>\n      <td>1</td>\n      <td>0</td>\n      <td>1</td>\n    </tr>\n    <tr>\n      <th>15</th>\n      <td>1</td>\n      <td>1</td>\n      <td>1</td>\n      <td>1</td>\n      <td>1</td>\n    </tr>\n  </tbody>\n</table>\n</div>"
     },
     "execution_count": 13,
     "metadata": {},
     "output_type": "execute_result"
    }
   ],
   "source": [
    "from services import *\n",
    "import pandas as pd\n",
    "from copy import copy\n",
    "import matplotlib.pyplot as plt\n",
    "\n",
    "truth_table = [[*x[0]] + [x[1]] for x in zip(FULL_TRAIN_DATA, FULL_EXPECTED_OUTPUT_DATA)]\n",
    "pd.DataFrame(truth_table, columns=('x1', 'x2', 'x3', 'x4', 'F'))"
   ],
   "metadata": {
    "collapsed": false,
    "pycharm": {
     "name": "#%%\n"
    }
   }
  },
  {
   "cell_type": "markdown",
   "id": "d2422736",
   "metadata": {
    "pycharm": {
     "name": "#%% md\n"
    }
   },
   "source": [
    "## Ход работы\n",
    "\n",
    "***\n",
    "\n",
    "## Функция активации №1 - ступенчатая\n",
    "\n",
    "$$ f(net)= \\left\\{\n",
    "\\begin{array}{ll}\n",
    "      1 & net >= 0 \\\\\n",
    "      0 & net < 0 \\\\\n",
    "\\end{array}\n",
    "\\right.  $$\n",
    "\n",
    "Динамика НС с нормой обучения η = 0.1 представлена в таблице ниже."
   ]
  },
  {
   "cell_type": "code",
   "execution_count": 14,
   "id": "8ad4c094",
   "metadata": {
    "pycharm": {
     "name": "#%%\n"
    }
   },
   "outputs": [
    {
     "data": {
      "text/plain": "   Номер эпохи k              Вектор весов w  \\\n0              1   (1.0, 1.0, 1.0, 1.0, 1.0)   \n1              2   (0.6, 0.6, 0.9, 0.6, 0.1)   \n2              3  (0.2, 0.2, 0.8, 0.2, -0.8)   \n3              4  (0.2, 0.2, 0.7, 0.2, -0.9)   \n\n                                  Выходной вектор y  Суммарная ошибка E  \n0  (1, 1, 1, 1, 1, 1, 1, 1, 1, 1, 1, 1, 1, 1, 1, 1)                   9  \n1  (1, 1, 1, 1, 1, 1, 1, 1, 1, 1, 1, 1, 1, 1, 1, 1)                   9  \n2  (0, 0, 1, 1, 0, 0, 1, 1, 0, 0, 1, 1, 0, 0, 1, 1)                   1  \n3  (0, 0, 0, 1, 0, 0, 1, 1, 0, 0, 1, 1, 0, 0, 1, 1)                   0  ",
      "text/html": "<div>\n<style scoped>\n    .dataframe tbody tr th:only-of-type {\n        vertical-align: middle;\n    }\n\n    .dataframe tbody tr th {\n        vertical-align: top;\n    }\n\n    .dataframe thead th {\n        text-align: right;\n    }\n</style>\n<table border=\"1\" class=\"dataframe\">\n  <thead>\n    <tr style=\"text-align: right;\">\n      <th></th>\n      <th>Номер эпохи k</th>\n      <th>Вектор весов w</th>\n      <th>Выходной вектор y</th>\n      <th>Суммарная ошибка E</th>\n    </tr>\n  </thead>\n  <tbody>\n    <tr>\n      <th>0</th>\n      <td>1</td>\n      <td>(1.0, 1.0, 1.0, 1.0, 1.0)</td>\n      <td>(1, 1, 1, 1, 1, 1, 1, 1, 1, 1, 1, 1, 1, 1, 1, 1)</td>\n      <td>9</td>\n    </tr>\n    <tr>\n      <th>1</th>\n      <td>2</td>\n      <td>(0.6, 0.6, 0.9, 0.6, 0.1)</td>\n      <td>(1, 1, 1, 1, 1, 1, 1, 1, 1, 1, 1, 1, 1, 1, 1, 1)</td>\n      <td>9</td>\n    </tr>\n    <tr>\n      <th>2</th>\n      <td>3</td>\n      <td>(0.2, 0.2, 0.8, 0.2, -0.8)</td>\n      <td>(0, 0, 1, 1, 0, 0, 1, 1, 0, 0, 1, 1, 0, 0, 1, 1)</td>\n      <td>1</td>\n    </tr>\n    <tr>\n      <th>3</th>\n      <td>4</td>\n      <td>(0.2, 0.2, 0.7, 0.2, -0.9)</td>\n      <td>(0, 0, 0, 1, 0, 0, 1, 1, 0, 0, 1, 1, 0, 0, 1, 1)</td>\n      <td>0</td>\n    </tr>\n  </tbody>\n</table>\n</div>"
     },
     "execution_count": 14,
     "metadata": {},
     "output_type": "execute_result"
    }
   ],
   "source": [
    "data = []\n",
    "epoch_number = 0\n",
    "count_errors = 1\n",
    "errors = []\n",
    "epochs = []\n",
    "nn = NeuralNetwork(learning_rate=0.1, activation_function=first_af, derivative_function=first_df)\n",
    "\n",
    "while count_errors:\n",
    "    epoch_number += 1\n",
    "    current_weights = copy(nn.weights)\n",
    "    count_errors = nn.epoch(FULL_TRAIN_DATA)\n",
    "\n",
    "    data.append([epoch_number,\n",
    "                 f'({current_weights[1]:.3}, {current_weights[2]:.3}, {current_weights[3]:.3}, {current_weights[4]:.3}, {current_weights[0]:.3})',\n",
    "                 f'({\", \".join(map(str, nn.current_nn_output))})',\n",
    "                 nn.current_error_count])\n",
    "    epochs.append(epoch_number)\n",
    "    errors.append(count_errors)\n",
    "\n",
    "pd.DataFrame(data, columns=('Номер эпохи k', 'Вектор весов w', 'Выходной вектор y', 'Суммарная ошибка E'))"
   ]
  },
  {
   "cell_type": "markdown",
   "id": "846fff2c",
   "metadata": {},
   "source": [
    "**График суммарной ошибки НС по эпохам обучения</b>"
   ]
  },
  {
   "cell_type": "code",
   "execution_count": 15,
   "id": "30b37d74",
   "metadata": {
    "pycharm": {
     "name": "#%%\n"
    }
   },
   "outputs": [
    {
     "data": {
      "text/plain": "<Figure size 432x288 with 1 Axes>",
      "image/png": "[encoded data removed]"
     },
     "metadata": {
      "needs_background": "light"
     },
     "output_type": "display_data"
    }
   ],
   "source": [
    "plt.plot(epochs, errors)\n",
    "plt.xlabel('Epochs')\n",
    "plt.ylabel('Errors')\n",
    "plt.xticks([x for x in range(len(epochs) + 1)], [x for x in range(len(epochs) + 1)])\n",
    "plt.yticks([x for x in range(max(errors) + 1)], [x for x in range(max(errors) + 1)])\n",
    "plt.show()\n"
   ]
  },
  {
   "cell_type": "markdown",
   "source": [
    "**Нахождение минимальной выборки для обучения**"
   ],
   "metadata": {
    "collapsed": false
   }
  },
  {
   "cell_type": "code",
   "execution_count": 16,
   "outputs": [
    {
     "name": "stdout",
     "output_type": "stream",
     "text": [
      "Min sample: [[0, 0, 0, 0], [0, 0, 0, 1], [1, 1, 0, 0]]\n",
      "\n"
     ]
    }
   ],
   "source": [
    "nn = NeuralNetwork(learning_rate=0.4, activation_function=first_af, derivative_function=first_df)\n",
    "main_min_sample = get_min_sample(nn)\n",
    "print(f'Min sample: {main_min_sample}', end='\\n\\n')\n",
    "nn.reset()"
   ],
   "metadata": {
    "collapsed": false,
    "pycharm": {
     "name": "#%%\n"
    }
   }
  },
  {
   "cell_type": "markdown",
   "source": [
    "Динамика НС c данной минимальной выборкой с нормой обучения η = 0.4 представлена в таблице ниже."
   ],
   "metadata": {
    "collapsed": false,
    "pycharm": {
     "name": "#%% md\n"
    }
   }
  },
  {
   "cell_type": "code",
   "execution_count": 17,
   "outputs": [
    {
     "data": {
      "text/plain": "   Номер эпохи k              Вектор весов w  \\\n0              1   (1.0, 1.0, 1.0, 1.0, 1.0)   \n1              2  (0.6, 0.6, 1.0, 0.6, -0.2)   \n2              3  (0.2, 0.2, 1.0, 0.2, -1.0)   \n\n                                  Выходной вектор y  Суммарная ошибка E  \n0  (1, 1, 1, 1, 1, 1, 1, 1, 1, 1, 1, 1, 1, 1, 1, 1)                   9  \n1  (0, 1, 1, 1, 1, 1, 1, 1, 1, 1, 1, 1, 1, 1, 1, 1)                   8  \n2  (0, 0, 0, 1, 0, 0, 1, 1, 0, 0, 1, 1, 0, 0, 1, 1)                   0  ",
      "text/html": "<div>\n<style scoped>\n    .dataframe tbody tr th:only-of-type {\n        vertical-align: middle;\n    }\n\n    .dataframe tbody tr th {\n        vertical-align: top;\n    }\n\n    .dataframe thead th {\n        text-align: right;\n    }\n</style>\n<table border=\"1\" class=\"dataframe\">\n  <thead>\n    <tr style=\"text-align: right;\">\n      <th></th>\n      <th>Номер эпохи k</th>\n      <th>Вектор весов w</th>\n      <th>Выходной вектор y</th>\n      <th>Суммарная ошибка E</th>\n    </tr>\n  </thead>\n  <tbody>\n    <tr>\n      <th>0</th>\n      <td>1</td>\n      <td>(1.0, 1.0, 1.0, 1.0, 1.0)</td>\n      <td>(1, 1, 1, 1, 1, 1, 1, 1, 1, 1, 1, 1, 1, 1, 1, 1)</td>\n      <td>9</td>\n    </tr>\n    <tr>\n      <th>1</th>\n      <td>2</td>\n      <td>(0.6, 0.6, 1.0, 0.6, -0.2)</td>\n      <td>(0, 1, 1, 1, 1, 1, 1, 1, 1, 1, 1, 1, 1, 1, 1, 1)</td>\n      <td>8</td>\n    </tr>\n    <tr>\n      <th>2</th>\n      <td>3</td>\n      <td>(0.2, 0.2, 1.0, 0.2, -1.0)</td>\n      <td>(0, 0, 0, 1, 0, 0, 1, 1, 0, 0, 1, 1, 0, 0, 1, 1)</td>\n      <td>0</td>\n    </tr>\n  </tbody>\n</table>\n</div>"
     },
     "execution_count": 17,
     "metadata": {},
     "output_type": "execute_result"
    }
   ],
   "source": [
    "data = []\n",
    "epoch_number = 0\n",
    "count_errors = 1\n",
    "errors = []\n",
    "epochs = []\n",
    "\n",
    "while count_errors:\n",
    "    epoch_number += 1\n",
    "    current_weights = copy(nn.weights)\n",
    "    count_errors = nn.partial_epoch(main_min_sample, set_expected_output_data(main_min_sample))\n",
    "    data.append([epoch_number,\n",
    "                 f'({current_weights[1]:.3}, {current_weights[2]:.3}, {current_weights[3]:.3}, {current_weights[4]:.3}, {current_weights[0]:.3})',\n",
    "                 f'({\", \".join(map(str, nn.current_nn_output))})',\n",
    "                 nn.current_error_count])\n",
    "    epochs.append(epoch_number)\n",
    "    errors.append(count_errors)\n",
    "\n",
    "pd.DataFrame(data, columns=('Номер эпохи k', 'Вектор весов w', 'Выходной вектор y', 'Суммарная ошибка E'))"
   ],
   "metadata": {
    "collapsed": false,
    "pycharm": {
     "name": "#%%\n"
    }
   }
  },
  {
   "cell_type": "markdown",
   "source": [
    "**График суммарной ошибки НС с минимальной выборкой по эпохам обучения**"
   ],
   "metadata": {
    "collapsed": false
   }
  },
  {
   "cell_type": "code",
   "execution_count": 18,
   "outputs": [
    {
     "data": {
      "text/plain": "<Figure size 432x288 with 1 Axes>",
      "image/png": "[encoded data removed]"
     },
     "metadata": {
      "needs_background": "light"
     },
     "output_type": "display_data"
    }
   ],
   "source": [
    "plt.plot(epochs, errors)\n",
    "plt.xlabel('Epochs')\n",
    "plt.ylabel('Errors')\n",
    "plt.xticks([x for x in range(len(epochs) + 1)], [x for x in range(len(epochs) + 1)])\n",
    "plt.yticks([x for x in range(max(errors) + 1)], [x for x in range(max(errors) + 1)])\n",
    "plt.show()"
   ],
   "metadata": {
    "collapsed": false,
    "pycharm": {
     "name": "#%%\n"
    }
   }
  },
  {
   "cell_type": "markdown",
   "id": "e64317dd",
   "metadata": {},
   "source": [
    "***\n",
    "\n",
    "## Функция активации №3 - логистическая (сигмоида)\n",
    "\n",
    "$$f(net) = \\dfrac{1}{1 + exp(-net)}$$\n",
    "\n",
    "Динамика НС с нормой обучения η = 0.3 представлена в таблице ниже."
   ]
  },
  {
   "cell_type": "code",
   "execution_count": 19,
   "id": "56544446",
   "metadata": {
    "pycharm": {
     "name": "#%%\n"
    }
   },
   "outputs": [
    {
     "data": {
      "text/plain": "    Номер эпохи k                          Вектор весов w  \\\n0               1               (1.0, 1.0, 1.0, 1.0, 1.0)   \n1               2     (0.957, 0.955, 0.984, 0.924, 0.859)   \n2               3      (0.903, 0.899, 0.963, 0.832, 0.69)   \n3               4     (0.831, 0.826, 0.935, 0.715, 0.483)   \n4               5       (0.73, 0.722, 0.895, 0.56, 0.219)   \n5               6    (0.576, 0.563, 0.836, 0.342, -0.137)   \n6               7    (0.343, 0.318, 0.761, 0.061, -0.564)   \n7               8  (0.208, 0.178, 0.691, -0.0122, -0.764)   \n8               9   (0.208, 0.178, 0.761, 0.0583, -0.695)   \n9              10   (0.208, 0.178, 0.691, 0.0583, -0.767)   \n10             11     (0.208, 0.178, 0.762, 0.13, -0.696)   \n11             12     (0.208, 0.178, 0.691, 0.13, -0.769)   \n\n                                   Выходной вектор y  Суммарная ошибка E  \n0   (1, 1, 1, 1, 1, 1, 1, 1, 1, 1, 1, 1, 1, 1, 1, 1)                   9  \n1   (1, 1, 1, 1, 1, 1, 1, 1, 1, 1, 1, 1, 1, 1, 1, 1)                   9  \n2   (1, 1, 1, 1, 1, 1, 1, 1, 1, 1, 1, 1, 1, 1, 1, 1)                   9  \n3   (1, 1, 1, 1, 1, 1, 1, 1, 1, 1, 1, 1, 1, 1, 1, 1)                   9  \n4   (1, 1, 1, 1, 1, 1, 1, 1, 1, 1, 1, 1, 1, 1, 1, 1)                   9  \n5   (0, 1, 1, 1, 1, 1, 1, 1, 1, 1, 1, 1, 1, 1, 1, 1)                   8  \n6   (0, 0, 1, 1, 0, 0, 1, 1, 0, 0, 1, 1, 1, 1, 1, 1)                   3  \n7   (0, 0, 0, 0, 0, 0, 1, 1, 0, 0, 1, 1, 0, 0, 1, 1)                   1  \n8   (0, 0, 1, 1, 0, 0, 1, 1, 0, 0, 1, 1, 0, 0, 1, 1)                   1  \n9   (0, 0, 0, 0, 0, 0, 1, 1, 0, 0, 1, 1, 0, 0, 1, 1)                   1  \n10  (0, 0, 1, 1, 0, 0, 1, 1, 0, 0, 1, 1, 0, 0, 1, 1)                   1  \n11  (0, 0, 0, 1, 0, 0, 1, 1, 0, 0, 1, 1, 0, 0, 1, 1)                   0  ",
      "text/html": "<div>\n<style scoped>\n    .dataframe tbody tr th:only-of-type {\n        vertical-align: middle;\n    }\n\n    .dataframe tbody tr th {\n        vertical-align: top;\n    }\n\n    .dataframe thead th {\n        text-align: right;\n    }\n</style>\n<table border=\"1\" class=\"dataframe\">\n  <thead>\n    <tr style=\"text-align: right;\">\n      <th></th>\n      <th>Номер эпохи k</th>\n      <th>Вектор весов w</th>\n      <th>Выходной вектор y</th>\n      <th>Суммарная ошибка E</th>\n    </tr>\n  </thead>\n  <tbody>\n    <tr>\n      <th>0</th>\n      <td>1</td>\n      <td>(1.0, 1.0, 1.0, 1.0, 1.0)</td>\n      <td>(1, 1, 1, 1, 1, 1, 1, 1, 1, 1, 1, 1, 1, 1, 1, 1)</td>\n      <td>9</td>\n    </tr>\n    <tr>\n      <th>1</th>\n      <td>2</td>\n      <td>(0.957, 0.955, 0.984, 0.924, 0.859)</td>\n      <td>(1, 1, 1, 1, 1, 1, 1, 1, 1, 1, 1, 1, 1, 1, 1, 1)</td>\n      <td>9</td>\n    </tr>\n    <tr>\n      <th>2</th>\n      <td>3</td>\n      <td>(0.903, 0.899, 0.963, 0.832, 0.69)</td>\n      <td>(1, 1, 1, 1, 1, 1, 1, 1, 1, 1, 1, 1, 1, 1, 1, 1)</td>\n      <td>9</td>\n    </tr>\n    <tr>\n      <th>3</th>\n      <td>4</td>\n      <td>(0.831, 0.826, 0.935, 0.715, 0.483)</td>\n      <td>(1, 1, 1, 1, 1, 1, 1, 1, 1, 1, 1, 1, 1, 1, 1, 1)</td>\n      <td>9</td>\n    </tr>\n    <tr>\n      <th>4</th>\n      <td>5</td>\n      <td>(0.73, 0.722, 0.895, 0.56, 0.219)</td>\n      <td>(1, 1, 1, 1, 1, 1, 1, 1, 1, 1, 1, 1, 1, 1, 1, 1)</td>\n      <td>9</td>\n    </tr>\n    <tr>\n      <th>5</th>\n      <td>6</td>\n      <td>(0.576, 0.563, 0.836, 0.342, -0.137)</td>\n      <td>(0, 1, 1, 1, 1, 1, 1, 1, 1, 1, 1, 1, 1, 1, 1, 1)</td>\n      <td>8</td>\n    </tr>\n    <tr>\n      <th>6</th>\n      <td>7</td>\n      <td>(0.343, 0.318, 0.761, 0.061, -0.564)</td>\n      <td>(0, 0, 1, 1, 0, 0, 1, 1, 0, 0, 1, 1, 1, 1, 1, 1)</td>\n      <td>3</td>\n    </tr>\n    <tr>\n      <th>7</th>\n      <td>8</td>\n      <td>(0.208, 0.178, 0.691, -0.0122, -0.764)</td>\n      <td>(0, 0, 0, 0, 0, 0, 1, 1, 0, 0, 1, 1, 0, 0, 1, 1)</td>\n      <td>1</td>\n    </tr>\n    <tr>\n      <th>8</th>\n      <td>9</td>\n      <td>(0.208, 0.178, 0.761, 0.0583, -0.695)</td>\n      <td>(0, 0, 1, 1, 0, 0, 1, 1, 0, 0, 1, 1, 0, 0, 1, 1)</td>\n      <td>1</td>\n    </tr>\n    <tr>\n      <th>9</th>\n      <td>10</td>\n      <td>(0.208, 0.178, 0.691, 0.0583, -0.767)</td>\n      <td>(0, 0, 0, 0, 0, 0, 1, 1, 0, 0, 1, 1, 0, 0, 1, 1)</td>\n      <td>1</td>\n    </tr>\n    <tr>\n      <th>10</th>\n      <td>11</td>\n      <td>(0.208, 0.178, 0.762, 0.13, -0.696)</td>\n      <td>(0, 0, 1, 1, 0, 0, 1, 1, 0, 0, 1, 1, 0, 0, 1, 1)</td>\n      <td>1</td>\n    </tr>\n    <tr>\n      <th>11</th>\n      <td>12</td>\n      <td>(0.208, 0.178, 0.691, 0.13, -0.769)</td>\n      <td>(0, 0, 0, 1, 0, 0, 1, 1, 0, 0, 1, 1, 0, 0, 1, 1)</td>\n      <td>0</td>\n    </tr>\n  </tbody>\n</table>\n</div>"
     },
     "execution_count": 19,
     "metadata": {},
     "output_type": "execute_result"
    }
   ],
   "source": [
    "data = []\n",
    "epoch_number = 0\n",
    "count_errors = 1\n",
    "errors = []\n",
    "epochs = []\n",
    "nn = NeuralNetwork(learning_rate=0.3, activation_function=third_af, derivative_function=third_df)\n",
    "\n",
    "while count_errors:\n",
    "    epoch_number += 1\n",
    "    current_weights = copy(nn.weights)\n",
    "    count_errors = nn.epoch(FULL_TRAIN_DATA)\n",
    "\n",
    "    data.append([epoch_number,\n",
    "                 f'({current_weights[1]:.3}, {current_weights[2]:.3}, {current_weights[3]:.3}, {current_weights[4]:.3}, {current_weights[0]:.3})',\n",
    "                 f'({\", \".join(map(str, nn.current_nn_output))})',\n",
    "                 nn.current_error_count])\n",
    "    epochs.append(epoch_number)\n",
    "    errors.append(count_errors)\n",
    "\n",
    "pd.DataFrame(data, columns=('Номер эпохи k', 'Вектор весов w', 'Выходной вектор y', 'Суммарная ошибка E'))\n"
   ]
  },
  {
   "cell_type": "markdown",
   "id": "73d35d3f",
   "metadata": {},
   "source": [
    "**График суммарной ошибки НС по эпохам обучения**"
   ]
  },
  {
   "cell_type": "code",
   "execution_count": 20,
   "id": "8fe815b4",
   "metadata": {
    "pycharm": {
     "name": "#%%\n"
    }
   },
   "outputs": [
    {
     "data": {
      "text/plain": "<Figure size 432x288 with 1 Axes>",
      "image/png": "[encoded data removed]"
     },
     "metadata": {
      "needs_background": "light"
     },
     "output_type": "display_data"
    }
   ],
   "source": [
    "plt.plot(epochs, errors)\n",
    "plt.xlabel('Epochs')\n",
    "plt.ylabel('Errors')\n",
    "plt.xticks([x for x in range(len(epochs) + 1)], [x for x in range(len(epochs) + 1)])\n",
    "plt.yticks([x for x in range(max(errors) + 1)], [x for x in range(max(errors) + 1)])\n",
    "plt.show()\n"
   ]
  },
  {
   "cell_type": "markdown",
   "id": "7c12084b",
   "metadata": {
    "pycharm": {
     "name": "#%% md\n"
    }
   },
   "source": [
    "**Нахождение минимальной выборки для обучения**"
   ]
  },
  {
   "cell_type": "code",
   "execution_count": 21,
   "id": "0cde935d",
   "metadata": {
    "pycharm": {
     "name": "#%%\n"
    }
   },
   "outputs": [
    {
     "name": "stdout",
     "output_type": "stream",
     "text": [
      "Min sample: [[0, 0, 0, 1], [0, 0, 1, 0], [0, 0, 1, 1], [1, 1, 0, 1]]\n",
      "\n"
     ]
    }
   ],
   "source": [
    "nn = NeuralNetwork(learning_rate=0.4, activation_function=third_af, derivative_function=third_df)\n",
    "main_min_sample = get_min_sample(nn)\n",
    "print(f'Min sample: {main_min_sample}', end='\\n\\n')\n",
    "nn.reset()"
   ]
  },
  {
   "cell_type": "markdown",
   "source": [
    "Динамика НС c данной минимальной выборкой с нормой обучения η = 0.4 представлена в таблице ниже."
   ],
   "metadata": {
    "collapsed": false
   }
  },
  {
   "cell_type": "code",
   "execution_count": 22,
   "outputs": [
    {
     "data": {
      "text/plain": "    Номер эпохи k                          Вектор весов w  \\\n0               1               (1.0, 1.0, 1.0, 1.0, 1.0)   \n1               2     (0.992, 0.992, 0.981, 0.948, 0.933)   \n2               3      (0.984, 0.984, 0.959, 0.892, 0.86)   \n3               4     (0.975, 0.975, 0.934, 0.832, 0.782)   \n4               5     (0.964, 0.964, 0.906, 0.767, 0.696)   \n5               6     (0.952, 0.952, 0.873, 0.697, 0.601)   \n6               7      (0.938, 0.937, 0.835, 0.62, 0.496)   \n7               8     (0.921, 0.921, 0.791, 0.535, 0.379)   \n8               9       (0.901, 0.9, 0.738, 0.439, 0.246)   \n9              10    (0.876, 0.874, 0.675, 0.332, 0.0948)   \n10             11      (0.844, 0.842, 0.6, 0.21, -0.0797)   \n11             12   (0.802, 0.798, 0.512, 0.0687, -0.282)   \n12             13   (0.75, 0.744, 0.416, 0.00859, -0.421)   \n13             14  (0.688, 0.679, 0.416, -0.0587, -0.481)   \n14             15  (0.622, 0.611, 0.516, -0.0264, -0.449)   \n15             16   (0.548, 0.534, 0.416, -0.109, -0.616)   \n16             17  (0.466, 0.449, 0.514, -0.0952, -0.599)   \n17             18  (0.381, 0.362, 0.612, -0.0839, -0.585)   \n18             19   (0.292, 0.271, 0.612, -0.083, -0.672)   \n19             20   (0.292, 0.271, 0.709, 0.0137, -0.577)   \n20             21   (0.292, 0.271, 0.612, 0.0137, -0.675)   \n21             22     (0.292, 0.271, 0.71, 0.112, -0.578)   \n22             23    (0.198, 0.175, 0.615, 0.013, -0.767)   \n23             24     (0.198, 0.175, 0.71, 0.108, -0.674)   \n24             25    (0.198, 0.175, 0.615, 0.108, -0.771)   \n25             26    (0.198, 0.175, 0.712, 0.205, -0.676)   \n26             27    (0.198, 0.175, 0.615, 0.205, -0.774)   \n\n                                   Выходной вектор y  Суммарная ошибка E  \n0   (1, 1, 1, 1, 1, 1, 1, 1, 1, 1, 1, 1, 1, 1, 1, 1)                   9  \n1   (1, 1, 1, 1, 1, 1, 1, 1, 1, 1, 1, 1, 1, 1, 1, 1)                   9  \n2   (1, 1, 1, 1, 1, 1, 1, 1, 1, 1, 1, 1, 1, 1, 1, 1)                   9  \n3   (1, 1, 1, 1, 1, 1, 1, 1, 1, 1, 1, 1, 1, 1, 1, 1)                   9  \n4   (1, 1, 1, 1, 1, 1, 1, 1, 1, 1, 1, 1, 1, 1, 1, 1)                   9  \n5   (1, 1, 1, 1, 1, 1, 1, 1, 1, 1, 1, 1, 1, 1, 1, 1)                   9  \n6   (1, 1, 1, 1, 1, 1, 1, 1, 1, 1, 1, 1, 1, 1, 1, 1)                   9  \n7   (1, 1, 1, 1, 1, 1, 1, 1, 1, 1, 1, 1, 1, 1, 1, 1)                   9  \n8   (1, 1, 1, 1, 1, 1, 1, 1, 1, 1, 1, 1, 1, 1, 1, 1)                   9  \n9   (1, 1, 1, 1, 1, 1, 1, 1, 1, 1, 1, 1, 1, 1, 1, 1)                   9  \n10  (0, 1, 1, 1, 1, 1, 1, 1, 1, 1, 1, 1, 1, 1, 1, 1)                   8  \n11  (0, 0, 1, 1, 1, 1, 1, 1, 1, 1, 1, 1, 1, 1, 1, 1)                   7  \n12  (0, 0, 0, 1, 1, 1, 1, 1, 1, 1, 1, 1, 1, 1, 1, 1)                   6  \n13  (0, 0, 0, 0, 1, 1, 1, 1, 1, 1, 1, 1, 1, 1, 1, 1)                   7  \n14  (0, 0, 1, 1, 1, 1, 1, 1, 1, 1, 1, 1, 1, 1, 1, 1)                   7  \n15  (0, 0, 0, 0, 0, 0, 1, 1, 0, 0, 1, 1, 1, 1, 1, 1)                   3  \n16  (0, 0, 0, 0, 0, 0, 1, 1, 0, 0, 1, 1, 1, 1, 1, 1)                   3  \n17  (0, 0, 1, 0, 0, 0, 1, 1, 0, 0, 1, 1, 1, 1, 1, 1)                   4  \n18  (0, 0, 0, 0, 0, 0, 1, 1, 0, 0, 1, 1, 0, 0, 1, 1)                   1  \n19  (0, 0, 1, 1, 0, 0, 1, 1, 0, 0, 1, 1, 0, 0, 1, 1)                   1  \n20  (0, 0, 0, 0, 0, 0, 1, 1, 0, 0, 1, 1, 0, 0, 1, 1)                   1  \n21  (0, 0, 1, 1, 0, 0, 1, 1, 0, 0, 1, 1, 0, 1, 1, 1)                   2  \n22  (0, 0, 0, 0, 0, 0, 1, 1, 0, 0, 1, 1, 0, 0, 1, 1)                   1  \n23  (0, 0, 1, 1, 0, 0, 1, 1, 0, 0, 1, 1, 0, 0, 1, 1)                   1  \n24  (0, 0, 0, 0, 0, 0, 1, 1, 0, 0, 1, 1, 0, 0, 1, 1)                   1  \n25  (0, 0, 1, 1, 0, 0, 1, 1, 0, 0, 1, 1, 0, 0, 1, 1)                   1  \n26  (0, 0, 0, 1, 0, 0, 1, 1, 0, 0, 1, 1, 0, 0, 1, 1)                   0  ",
      "text/html": "<div>\n<style scoped>\n    .dataframe tbody tr th:only-of-type {\n        vertical-align: middle;\n    }\n\n    .dataframe tbody tr th {\n        vertical-align: top;\n    }\n\n    .dataframe thead th {\n        text-align: right;\n    }\n</style>\n<table border=\"1\" class=\"dataframe\">\n  <thead>\n    <tr style=\"text-align: right;\">\n      <th></th>\n      <th>Номер эпохи k</th>\n      <th>Вектор весов w</th>\n      <th>Выходной вектор y</th>\n      <th>Суммарная ошибка E</th>\n    </tr>\n  </thead>\n  <tbody>\n    <tr>\n      <th>0</th>\n      <td>1</td>\n      <td>(1.0, 1.0, 1.0, 1.0, 1.0)</td>\n      <td>(1, 1, 1, 1, 1, 1, 1, 1, 1, 1, 1, 1, 1, 1, 1, 1)</td>\n      <td>9</td>\n    </tr>\n    <tr>\n      <th>1</th>\n      <td>2</td>\n      <td>(0.992, 0.992, 0.981, 0.948, 0.933)</td>\n      <td>(1, 1, 1, 1, 1, 1, 1, 1, 1, 1, 1, 1, 1, 1, 1, 1)</td>\n      <td>9</td>\n    </tr>\n    <tr>\n      <th>2</th>\n      <td>3</td>\n      <td>(0.984, 0.984, 0.959, 0.892, 0.86)</td>\n      <td>(1, 1, 1, 1, 1, 1, 1, 1, 1, 1, 1, 1, 1, 1, 1, 1)</td>\n      <td>9</td>\n    </tr>\n    <tr>\n      <th>3</th>\n      <td>4</td>\n      <td>(0.975, 0.975, 0.934, 0.832, 0.782)</td>\n      <td>(1, 1, 1, 1, 1, 1, 1, 1, 1, 1, 1, 1, 1, 1, 1, 1)</td>\n      <td>9</td>\n    </tr>\n    <tr>\n      <th>4</th>\n      <td>5</td>\n      <td>(0.964, 0.964, 0.906, 0.767, 0.696)</td>\n      <td>(1, 1, 1, 1, 1, 1, 1, 1, 1, 1, 1, 1, 1, 1, 1, 1)</td>\n      <td>9</td>\n    </tr>\n    <tr>\n      <th>5</th>\n      <td>6</td>\n      <td>(0.952, 0.952, 0.873, 0.697, 0.601)</td>\n      <td>(1, 1, 1, 1, 1, 1, 1, 1, 1, 1, 1, 1, 1, 1, 1, 1)</td>\n      <td>9</td>\n    </tr>\n    <tr>\n      <th>6</th>\n      <td>7</td>\n      <td>(0.938, 0.937, 0.835, 0.62, 0.496)</td>\n      <td>(1, 1, 1, 1, 1, 1, 1, 1, 1, 1, 1, 1, 1, 1, 1, 1)</td>\n      <td>9</td>\n    </tr>\n    <tr>\n      <th>7</th>\n      <td>8</td>\n      <td>(0.921, 0.921, 0.791, 0.535, 0.379)</td>\n      <td>(1, 1, 1, 1, 1, 1, 1, 1, 1, 1, 1, 1, 1, 1, 1, 1)</td>\n      <td>9</td>\n    </tr>\n    <tr>\n      <th>8</th>\n      <td>9</td>\n      <td>(0.901, 0.9, 0.738, 0.439, 0.246)</td>\n      <td>(1, 1, 1, 1, 1, 1, 1, 1, 1, 1, 1, 1, 1, 1, 1, 1)</td>\n      <td>9</td>\n    </tr>\n    <tr>\n      <th>9</th>\n      <td>10</td>\n      <td>(0.876, 0.874, 0.675, 0.332, 0.0948)</td>\n      <td>(1, 1, 1, 1, 1, 1, 1, 1, 1, 1, 1, 1, 1, 1, 1, 1)</td>\n      <td>9</td>\n    </tr>\n    <tr>\n      <th>10</th>\n      <td>11</td>\n      <td>(0.844, 0.842, 0.6, 0.21, -0.0797)</td>\n      <td>(0, 1, 1, 1, 1, 1, 1, 1, 1, 1, 1, 1, 1, 1, 1, 1)</td>\n      <td>8</td>\n    </tr>\n    <tr>\n      <th>11</th>\n      <td>12</td>\n      <td>(0.802, 0.798, 0.512, 0.0687, -0.282)</td>\n      <td>(0, 0, 1, 1, 1, 1, 1, 1, 1, 1, 1, 1, 1, 1, 1, 1)</td>\n      <td>7</td>\n    </tr>\n    <tr>\n      <th>12</th>\n      <td>13</td>\n      <td>(0.75, 0.744, 0.416, 0.00859, -0.421)</td>\n      <td>(0, 0, 0, 1, 1, 1, 1, 1, 1, 1, 1, 1, 1, 1, 1, 1)</td>\n      <td>6</td>\n    </tr>\n    <tr>\n      <th>13</th>\n      <td>14</td>\n      <td>(0.688, 0.679, 0.416, -0.0587, -0.481)</td>\n      <td>(0, 0, 0, 0, 1, 1, 1, 1, 1, 1, 1, 1, 1, 1, 1, 1)</td>\n      <td>7</td>\n    </tr>\n    <tr>\n      <th>14</th>\n      <td>15</td>\n      <td>(0.622, 0.611, 0.516, -0.0264, -0.449)</td>\n      <td>(0, 0, 1, 1, 1, 1, 1, 1, 1, 1, 1, 1, 1, 1, 1, 1)</td>\n      <td>7</td>\n    </tr>\n    <tr>\n      <th>15</th>\n      <td>16</td>\n      <td>(0.548, 0.534, 0.416, -0.109, -0.616)</td>\n      <td>(0, 0, 0, 0, 0, 0, 1, 1, 0, 0, 1, 1, 1, 1, 1, 1)</td>\n      <td>3</td>\n    </tr>\n    <tr>\n      <th>16</th>\n      <td>17</td>\n      <td>(0.466, 0.449, 0.514, -0.0952, -0.599)</td>\n      <td>(0, 0, 0, 0, 0, 0, 1, 1, 0, 0, 1, 1, 1, 1, 1, 1)</td>\n      <td>3</td>\n    </tr>\n    <tr>\n      <th>17</th>\n      <td>18</td>\n      <td>(0.381, 0.362, 0.612, -0.0839, -0.585)</td>\n      <td>(0, 0, 1, 0, 0, 0, 1, 1, 0, 0, 1, 1, 1, 1, 1, 1)</td>\n      <td>4</td>\n    </tr>\n    <tr>\n      <th>18</th>\n      <td>19</td>\n      <td>(0.292, 0.271, 0.612, -0.083, -0.672)</td>\n      <td>(0, 0, 0, 0, 0, 0, 1, 1, 0, 0, 1, 1, 0, 0, 1, 1)</td>\n      <td>1</td>\n    </tr>\n    <tr>\n      <th>19</th>\n      <td>20</td>\n      <td>(0.292, 0.271, 0.709, 0.0137, -0.577)</td>\n      <td>(0, 0, 1, 1, 0, 0, 1, 1, 0, 0, 1, 1, 0, 0, 1, 1)</td>\n      <td>1</td>\n    </tr>\n    <tr>\n      <th>20</th>\n      <td>21</td>\n      <td>(0.292, 0.271, 0.612, 0.0137, -0.675)</td>\n      <td>(0, 0, 0, 0, 0, 0, 1, 1, 0, 0, 1, 1, 0, 0, 1, 1)</td>\n      <td>1</td>\n    </tr>\n    <tr>\n      <th>21</th>\n      <td>22</td>\n      <td>(0.292, 0.271, 0.71, 0.112, -0.578)</td>\n      <td>(0, 0, 1, 1, 0, 0, 1, 1, 0, 0, 1, 1, 0, 1, 1, 1)</td>\n      <td>2</td>\n    </tr>\n    <tr>\n      <th>22</th>\n      <td>23</td>\n      <td>(0.198, 0.175, 0.615, 0.013, -0.767)</td>\n      <td>(0, 0, 0, 0, 0, 0, 1, 1, 0, 0, 1, 1, 0, 0, 1, 1)</td>\n      <td>1</td>\n    </tr>\n    <tr>\n      <th>23</th>\n      <td>24</td>\n      <td>(0.198, 0.175, 0.71, 0.108, -0.674)</td>\n      <td>(0, 0, 1, 1, 0, 0, 1, 1, 0, 0, 1, 1, 0, 0, 1, 1)</td>\n      <td>1</td>\n    </tr>\n    <tr>\n      <th>24</th>\n      <td>25</td>\n      <td>(0.198, 0.175, 0.615, 0.108, -0.771)</td>\n      <td>(0, 0, 0, 0, 0, 0, 1, 1, 0, 0, 1, 1, 0, 0, 1, 1)</td>\n      <td>1</td>\n    </tr>\n    <tr>\n      <th>25</th>\n      <td>26</td>\n      <td>(0.198, 0.175, 0.712, 0.205, -0.676)</td>\n      <td>(0, 0, 1, 1, 0, 0, 1, 1, 0, 0, 1, 1, 0, 0, 1, 1)</td>\n      <td>1</td>\n    </tr>\n    <tr>\n      <th>26</th>\n      <td>27</td>\n      <td>(0.198, 0.175, 0.615, 0.205, -0.774)</td>\n      <td>(0, 0, 0, 1, 0, 0, 1, 1, 0, 0, 1, 1, 0, 0, 1, 1)</td>\n      <td>0</td>\n    </tr>\n  </tbody>\n</table>\n</div>"
     },
     "execution_count": 22,
     "metadata": {},
     "output_type": "execute_result"
    }
   ],
   "source": [
    "data = []\n",
    "epoch_number = 0\n",
    "count_errors = 1\n",
    "errors = []\n",
    "epochs = []\n",
    "\n",
    "while count_errors:\n",
    "    epoch_number += 1\n",
    "    current_weights = copy(nn.weights)\n",
    "    count_errors = nn.partial_epoch(main_min_sample, set_expected_output_data(main_min_sample))\n",
    "    data.append([epoch_number,\n",
    "                 f'({current_weights[1]:.3}, {current_weights[2]:.3}, {current_weights[3]:.3}, {current_weights[4]:.3}, {current_weights[0]:.3})',\n",
    "                 f'({\", \".join(map(str, nn.current_nn_output))})',\n",
    "                 nn.current_error_count])\n",
    "    epochs.append(epoch_number)\n",
    "    errors.append(count_errors)\n",
    "\n",
    "pd.DataFrame(data, columns=('Номер эпохи k', 'Вектор весов w', 'Выходной вектор y', 'Суммарная ошибка E'))"
   ],
   "metadata": {
    "collapsed": false,
    "pycharm": {
     "name": "#%%\n"
    }
   }
  },
  {
   "cell_type": "markdown",
   "source": [
    "**График суммарной ошибки НС с минимальной выборкой по эпохам обучения**"
   ],
   "metadata": {
    "collapsed": false
   }
  },
  {
   "cell_type": "code",
   "execution_count": 23,
   "outputs": [
    {
     "data": {
      "text/plain": "<Figure size 432x288 with 1 Axes>",
      "image/png": "[encoded data removed]"
     },
     "metadata": {
      "needs_background": "light"
     },
     "output_type": "display_data"
    }
   ],
   "source": [
    "plt.plot(epochs, errors)\n",
    "plt.xlabel('Epochs')\n",
    "plt.ylabel('Errors')\n",
    "plt.xticks([x for x in range(len(epochs) + 1)], [x for x in range(len(epochs) + 1)])\n",
    "plt.yticks([x for x in range(max(errors) + 1)], [x for x in range(max(errors) + 1)])\n",
    "plt.show()"
   ],
   "metadata": {
    "collapsed": false,
    "pycharm": {
     "name": "#%%\n"
    }
   }
  },
  {
   "cell_type": "markdown",
   "source": [
    "***\n",
    "## Выводы\n",
    "\n",
    "В результате проведения работы было исследовано функционирование простейшей нейронной сети (НС) на базе нейрона с нелинейной функцией активации.\n",
    "Было проведено обучение НС по правилу Видроу-Хоффа.\n",
    "Было получено минимальное число векторов, на котором нейронная сеть может обучиться."
   ],
   "metadata": {
    "collapsed": false,
    "pycharm": {
     "name": "#%% md\n"
    }
   }
  },
  {
   "cell_type": "markdown",
   "source": [
    "***\n",
    "\n",
    "## Контрольные вопросы\n",
    "**1. Дайте определение персептрон и поясните алгоритм его функционирования.**\n",
    "\n",
    "Перцептрон — математическая или компьютерная модель восприятия информации мозгом (кибернетическая модель мозга).\n",
    "Перцептрон состоит из трёх типов элементов, а именно: поступающие от датчиков сигналы передаются ассоциативным элементам, а затем реагирующим элементам.\n",
    "Таким образом, перцептроны позволяют создать набор «ассоциаций» между входными стимулами и необходимой реакцией на выходе.\n",
    "Перцептрон классифицируется как простейшая нейронная сеть, позволяющая решать задачу классификации.\n",
    "\n",
    "**2. Приведите функции активации НС и их производные.**\n",
    "\n",
    "Функция активации определяет выходное значение нейрона в зависимости от результата взвешенной суммы входов и порогового значения.\n",
    "Примеры функций активации и их производные:\n",
    "\n",
    " * Ступенчатая\n",
    "\n",
    "$$f(net)= \\left\\{\n",
    "\\begin{array}{ll}\n",
    "      1 & net >= 0 \\\\\n",
    "      0 & net < 0 \\\\\n",
    "\\end{array}\n",
    "\\right.$$\n",
    "$$f(net)= \\left\\{\n",
    "\\begin{array}{ll}\n",
    "      ? & net = 0 \\\\\n",
    "      0 & net \\neq 0 \\\\\n",
    "\\end{array}\n",
    "\\right.$$\n",
    "\n",
    " * Сигмоида (логистическая)\n",
    "\n",
    "$$f(net) = \\dfrac{1}{1 + exp(-net)}$$\n",
    "$$f'(net)=f(net)(1-f(net))$$\n",
    "\n",
    " * ReLu\n",
    "\n",
    "$$f(net)= \\left\\{\n",
    "\\begin{array}{ll}\n",
    "      net & net >= 0 \\\\\n",
    "      0 & net < 0 \\\\\n",
    "\\end{array}\n",
    "\\right.$$\n",
    "$$f'(net)= \\left\\{\n",
    "\\begin{array}{ll}\n",
    "      net & net >= 0 \\\\\n",
    "      0 & net < 0 \\\\\n",
    "\\end{array}\n",
    "\\right.$$\n",
    "\n",
    "\n",
    "**3. Сформулируйте правило обучения Видроу — Хоффа.**\n",
    "\n",
    "Правило обучения Видроу-Хоффа известно под названием дельта-правило.\n",
    "Пусть вектор $X =x_1,x_2,...x_r,...x_m$ - вектор входных сигналов, а вектор $D =d_1,d_2,...d_r,...d_m$ - вектор сигналов, которые должны быть получены от перцептрона под воздействием входного вектора. $n$ - число нейронов. Полученный вектор выходных значений перцептрона: $Y =y_1,y_2,...y_r,...y_m$. Тогда можно определить вектор ошибки $E =e_1,e_2,...e_r,...e_m$, размерность которого совпадает с размерностью вектора выходных сигналов. Компоненты вектора ошибок определяются как разность между ожидаемым и реальным значением выходного сигнала перцептронного нейрона:\n",
    "\n",
    "$$ E = D - Y $$\n",
    "\n",
    "При таких обозначениях формулу для корректировки $j$-го веса $i$-го нейрона можно записать следующим образом:\n",
    "\n",
    "$$ w_j(t+1) = w_j(t) + e_i x_j $$"
   ],
   "metadata": {
    "collapsed": false
   }
  }
 ],
 "metadata": {
  "kernelspec": {
   "display_name": "myenv",
   "language": "python",
   "name": "myenv"
  },
  "language_info": {
   "codemirror_mode": {
    "name": "ipython",
    "version": 3
   },
   "file_extension": ".py",
   "mimetype": "text/x-python",
   "name": "python",
   "nbconvert_exporter": "python",
   "pygments_lexer": "ipython3",
   "version": "3.9.2"
  }
 },
 "nbformat": 4,
 "nbformat_minor": 5
}