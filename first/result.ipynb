{
 "cells": [
  {
   "cell_type": "markdown",
   "id": "478a39ca",
   "metadata": {
    "pycharm": {
     "name": "#%% md\n"
    }
   },
   "source": [
    "### Постановка задачи.\n",
    "\n",
    "Получить модель булевой функции (БФ) на основе однослойной НС (единичный нейрон) с двоичными входами 𝑥1,𝑥2,𝑥3,𝑥4∈{0,1}, единичным входом смещения 𝑥0=1, синаптическими весами 𝑤0,𝑤1,𝑤2,𝑤3,𝑤4, двоичным выходом 𝑦∈{0,1} и заданной нелинейной функцией активации (ФА) 𝑓:𝑅→(0,1) (рис. 1.1).\n",
    "\n",
    "Для заданной БФ (варианты см. в табл. 1.4) реализовать обучение НС с использованием:\n",
    "1. всех комбинаций переменных 𝑥1,𝑥2,𝑥3,𝑥4;\n",
    "2. части возможных комбинаций переменных 𝑥1,𝑥2,𝑥3,𝑥4;\n",
    "\n",
    "остальные комбинации являются тестовыми."
   ]
  },
  {
   "cell_type": "code",
   "execution_count": 1,
   "id": "9ea3c415",
   "metadata": {},
   "outputs": [
    {
     "name": "stderr",
     "output_type": "stream",
     "text": [
      "/Users/eblackbu/PycharmProjects/ITIBFirst/venv/lib/python3.9/site-packages/pandas/compat/__init__.py:124: UserWarning: Could not import the lzma module. Your installed Python is incomplete. Attempting to use lzma compression will result in a RuntimeError.\n",
      "  warnings.warn(msg)\n"
     ]
    }
   ],
   "source": [
    "from variants import *\n",
    "from services import NeuralNetwork\n",
    "import pandas as pd\n",
    "from copy import copy\n",
    "import matplotlib.pyplot as plt\n",
    "\n",
    "input_data = FULL_TRAIN_DATA\n",
    "expected_output_data = set_expected_output_data()"
   ]
  },
  {
   "cell_type": "markdown",
   "id": "f0d664bb",
   "metadata": {},
   "source": [
    "<b> Таблица истинности </b>"
   ]
  },
  {
   "cell_type": "code",
   "execution_count": 2,
   "id": "fab7184b",
   "metadata": {
    "pycharm": {
     "name": "#%%\n"
    }
   },
   "outputs": [
    {
     "data": {
      "text/html": [
       "<div>\n",
       "<style scoped>\n",
       "    .dataframe tbody tr th:only-of-type {\n",
       "        vertical-align: middle;\n",
       "    }\n",
       "\n",
       "    .dataframe tbody tr th {\n",
       "        vertical-align: top;\n",
       "    }\n",
       "\n",
       "    .dataframe thead th {\n",
       "        text-align: right;\n",
       "    }\n",
       "</style>\n",
       "<table border=\"1\" class=\"dataframe\">\n",
       "  <thead>\n",
       "    <tr style=\"text-align: right;\">\n",
       "      <th></th>\n",
       "      <th>x1</th>\n",
       "      <th>x2</th>\n",
       "      <th>x3</th>\n",
       "      <th>x4</th>\n",
       "      <th>F</th>\n",
       "    </tr>\n",
       "  </thead>\n",
       "  <tbody>\n",
       "    <tr>\n",
       "      <th>0</th>\n",
       "      <td>0</td>\n",
       "      <td>0</td>\n",
       "      <td>0</td>\n",
       "      <td>0</td>\n",
       "      <td>0</td>\n",
       "    </tr>\n",
       "    <tr>\n",
       "      <th>1</th>\n",
       "      <td>0</td>\n",
       "      <td>0</td>\n",
       "      <td>0</td>\n",
       "      <td>1</td>\n",
       "      <td>0</td>\n",
       "    </tr>\n",
       "    <tr>\n",
       "      <th>2</th>\n",
       "      <td>0</td>\n",
       "      <td>0</td>\n",
       "      <td>1</td>\n",
       "      <td>0</td>\n",
       "      <td>0</td>\n",
       "    </tr>\n",
       "    <tr>\n",
       "      <th>3</th>\n",
       "      <td>0</td>\n",
       "      <td>0</td>\n",
       "      <td>1</td>\n",
       "      <td>1</td>\n",
       "      <td>1</td>\n",
       "    </tr>\n",
       "    <tr>\n",
       "      <th>4</th>\n",
       "      <td>0</td>\n",
       "      <td>1</td>\n",
       "      <td>0</td>\n",
       "      <td>0</td>\n",
       "      <td>0</td>\n",
       "    </tr>\n",
       "    <tr>\n",
       "      <th>5</th>\n",
       "      <td>0</td>\n",
       "      <td>1</td>\n",
       "      <td>0</td>\n",
       "      <td>1</td>\n",
       "      <td>1</td>\n",
       "    </tr>\n",
       "    <tr>\n",
       "      <th>6</th>\n",
       "      <td>0</td>\n",
       "      <td>1</td>\n",
       "      <td>1</td>\n",
       "      <td>0</td>\n",
       "      <td>0</td>\n",
       "    </tr>\n",
       "    <tr>\n",
       "      <th>7</th>\n",
       "      <td>0</td>\n",
       "      <td>1</td>\n",
       "      <td>1</td>\n",
       "      <td>1</td>\n",
       "      <td>1</td>\n",
       "    </tr>\n",
       "    <tr>\n",
       "      <th>8</th>\n",
       "      <td>1</td>\n",
       "      <td>0</td>\n",
       "      <td>0</td>\n",
       "      <td>0</td>\n",
       "      <td>0</td>\n",
       "    </tr>\n",
       "    <tr>\n",
       "      <th>9</th>\n",
       "      <td>1</td>\n",
       "      <td>0</td>\n",
       "      <td>0</td>\n",
       "      <td>1</td>\n",
       "      <td>1</td>\n",
       "    </tr>\n",
       "    <tr>\n",
       "      <th>10</th>\n",
       "      <td>1</td>\n",
       "      <td>0</td>\n",
       "      <td>1</td>\n",
       "      <td>0</td>\n",
       "      <td>0</td>\n",
       "    </tr>\n",
       "    <tr>\n",
       "      <th>11</th>\n",
       "      <td>1</td>\n",
       "      <td>0</td>\n",
       "      <td>1</td>\n",
       "      <td>1</td>\n",
       "      <td>1</td>\n",
       "    </tr>\n",
       "    <tr>\n",
       "      <th>12</th>\n",
       "      <td>1</td>\n",
       "      <td>1</td>\n",
       "      <td>0</td>\n",
       "      <td>0</td>\n",
       "      <td>0</td>\n",
       "    </tr>\n",
       "    <tr>\n",
       "      <th>13</th>\n",
       "      <td>1</td>\n",
       "      <td>1</td>\n",
       "      <td>0</td>\n",
       "      <td>1</td>\n",
       "      <td>1</td>\n",
       "    </tr>\n",
       "    <tr>\n",
       "      <th>14</th>\n",
       "      <td>1</td>\n",
       "      <td>1</td>\n",
       "      <td>1</td>\n",
       "      <td>0</td>\n",
       "      <td>0</td>\n",
       "    </tr>\n",
       "    <tr>\n",
       "      <th>15</th>\n",
       "      <td>1</td>\n",
       "      <td>1</td>\n",
       "      <td>1</td>\n",
       "      <td>1</td>\n",
       "      <td>1</td>\n",
       "    </tr>\n",
       "  </tbody>\n",
       "</table>\n",
       "</div>"
      ],
      "text/plain": [
       "    x1  x2  x3  x4  F\n",
       "0    0   0   0   0  0\n",
       "1    0   0   0   1  0\n",
       "2    0   0   1   0  0\n",
       "3    0   0   1   1  1\n",
       "4    0   1   0   0  0\n",
       "5    0   1   0   1  1\n",
       "6    0   1   1   0  0\n",
       "7    0   1   1   1  1\n",
       "8    1   0   0   0  0\n",
       "9    1   0   0   1  1\n",
       "10   1   0   1   0  0\n",
       "11   1   0   1   1  1\n",
       "12   1   1   0   0  0\n",
       "13   1   1   0   1  1\n",
       "14   1   1   1   0  0\n",
       "15   1   1   1   1  1"
      ]
     },
     "execution_count": 2,
     "metadata": {},
     "output_type": "execute_result"
    }
   ],
   "source": [
    "truth_table = [[*x[0]] + [x[1]] for x in zip(input_data, expected_output_data)]\n",
    "pd.DataFrame(truth_table, columns=('x1', 'x2', 'x3', 'x4', 'F'))"
   ]
  },
  {
   "cell_type": "markdown",
   "id": "d2422736",
   "metadata": {
    "pycharm": {
     "name": "#%% md\n"
    }
   },
   "source": [
    "***\n",
    "\n",
    "<b> Функция активации 1</b>\n",
    "\n",
    "$$ f(net)= \\left\\{\n",
    "\\begin{array}{ll}\n",
    "      1 & net >= 0 \\\\\n",
    "      0 & net < 0 \\\\\n",
    "\\end{array}\n",
    "\\right.  $$"
   ]
  },
  {
   "cell_type": "code",
   "execution_count": 3,
   "id": "8ad4c094",
   "metadata": {
    "pycharm": {
     "name": "#%%\n"
    }
   },
   "outputs": [
    {
     "data": {
      "text/html": [
       "<div>\n",
       "<style scoped>\n",
       "    .dataframe tbody tr th:only-of-type {\n",
       "        vertical-align: middle;\n",
       "    }\n",
       "\n",
       "    .dataframe tbody tr th {\n",
       "        vertical-align: top;\n",
       "    }\n",
       "\n",
       "    .dataframe thead th {\n",
       "        text-align: right;\n",
       "    }\n",
       "</style>\n",
       "<table border=\"1\" class=\"dataframe\">\n",
       "  <thead>\n",
       "    <tr style=\"text-align: right;\">\n",
       "      <th></th>\n",
       "      <th>Номер эпохи k</th>\n",
       "      <th>Вектор весов w</th>\n",
       "      <th>Выходной вектор y</th>\n",
       "      <th>Суммарная ошибка E</th>\n",
       "    </tr>\n",
       "  </thead>\n",
       "  <tbody>\n",
       "    <tr>\n",
       "      <th>0</th>\n",
       "      <td>1</td>\n",
       "      <td>(1.0, 1.0, 1.0, 1.0, 1.0)</td>\n",
       "      <td>(1, 1, 1, 1, 1, 1, 1, 1, 1, 1, 1, 1, 1, 1, 1, 1)</td>\n",
       "      <td>9</td>\n",
       "    </tr>\n",
       "    <tr>\n",
       "      <th>1</th>\n",
       "      <td>2</td>\n",
       "      <td>(0.6, 0.6, 0.6, 0.9, 0.1)</td>\n",
       "      <td>(1, 1, 1, 1, 1, 1, 1, 1, 1, 1, 1, 1, 1, 1, 1, 1)</td>\n",
       "      <td>9</td>\n",
       "    </tr>\n",
       "    <tr>\n",
       "      <th>2</th>\n",
       "      <td>3</td>\n",
       "      <td>(0.2, 0.2, 0.2, 0.8, -0.8)</td>\n",
       "      <td>(0, 1, 0, 1, 0, 1, 0, 1, 0, 1, 0, 1, 0, 1, 0, 1)</td>\n",
       "      <td>1</td>\n",
       "    </tr>\n",
       "    <tr>\n",
       "      <th>3</th>\n",
       "      <td>4</td>\n",
       "      <td>(0.2, 0.2, 0.2, 0.7, -0.9)</td>\n",
       "      <td>(0, 0, 0, 1, 0, 1, 0, 1, 0, 1, 0, 1, 0, 1, 0, 1)</td>\n",
       "      <td>0</td>\n",
       "    </tr>\n",
       "  </tbody>\n",
       "</table>\n",
       "</div>"
      ],
      "text/plain": [
       "   Номер эпохи k              Вектор весов w  \\\n",
       "0              1   (1.0, 1.0, 1.0, 1.0, 1.0)   \n",
       "1              2   (0.6, 0.6, 0.6, 0.9, 0.1)   \n",
       "2              3  (0.2, 0.2, 0.2, 0.8, -0.8)   \n",
       "3              4  (0.2, 0.2, 0.2, 0.7, -0.9)   \n",
       "\n",
       "                                  Выходной вектор y  Суммарная ошибка E  \n",
       "0  (1, 1, 1, 1, 1, 1, 1, 1, 1, 1, 1, 1, 1, 1, 1, 1)                   9  \n",
       "1  (1, 1, 1, 1, 1, 1, 1, 1, 1, 1, 1, 1, 1, 1, 1, 1)                   9  \n",
       "2  (0, 1, 0, 1, 0, 1, 0, 1, 0, 1, 0, 1, 0, 1, 0, 1)                   1  \n",
       "3  (0, 0, 0, 1, 0, 1, 0, 1, 0, 1, 0, 1, 0, 1, 0, 1)                   0  "
      ]
     },
     "execution_count": 3,
     "metadata": {},
     "output_type": "execute_result"
    }
   ],
   "source": [
    "data = []\n",
    "epoch_number = 0\n",
    "count_errors = 1\n",
    "errors = []\n",
    "epochs = []\n",
    "nn = NeuralNetwork(learning_rate=0.1, activation_function=first_af, derivative_function=first_df)\n",
    "\n",
    "while count_errors:\n",
    "    epoch_number += 1\n",
    "    current_weights = copy(nn.weights)\n",
    "    count_errors = nn.epoch(input_data, expected_output_data)\n",
    "\n",
    "    data.append([epoch_number,\n",
    "                 f'({current_weights[1]:.3}, {current_weights[2]:.3}, {current_weights[3]:.3}, {current_weights[4]:.3}, {current_weights[0]:.3})',\n",
    "                 f'({\", \".join(map(str, nn.current_nn_output))})',\n",
    "                 nn.current_error_count])\n",
    "    epochs.append(epoch_number)\n",
    "    errors.append(count_errors)\n",
    "\n",
    "pd.DataFrame(data, columns=('Номер эпохи k', 'Вектор весов w', 'Выходной вектор y', 'Суммарная ошибка E'))"
   ]
  },
  {
   "cell_type": "markdown",
   "id": "846fff2c",
   "metadata": {},
   "source": [
    "<b> График ошибки </b>"
   ]
  },
  {
   "cell_type": "code",
   "execution_count": 4,
   "id": "30b37d74",
   "metadata": {
    "pycharm": {
     "name": "#%%\n"
    }
   },
   "outputs": [
    {
     "data": {
      "image/png": "[encoded data removed]",
      "text/plain": [
       "<Figure size 432x288 with 1 Axes>"
      ]
     },
     "metadata": {
      "needs_background": "light"
     },
     "output_type": "display_data"
    }
   ],
   "source": [
    "plt.plot(epochs, errors)\n",
    "plt.xlabel('Epochs')\n",
    "plt.ylabel('Errors')\n",
    "plt.xticks([x for x in range(len(epochs) + 1)], [x for x in range(len(epochs) + 1)])\n",
    "plt.yticks([x for x in range(max(errors) + 1)], [x for x in range(max(errors) + 1)])\n",
    "plt.show()"
   ]
  },
  {
   "cell_type": "markdown",
   "id": "e64317dd",
   "metadata": {},
   "source": [
    "***\n",
    "\n",
    "<b> Функция активации 3</b>\n",
    "\n",
    "$$f(net) = \\dfrac{1}{1 + exp(-net)}$$"
   ]
  },
  {
   "cell_type": "code",
   "execution_count": 5,
   "id": "56544446",
   "metadata": {
    "pycharm": {
     "name": "#%%\n"
    }
   },
   "outputs": [
    {
     "data": {
      "text/html": [
       "<div>\n",
       "<style scoped>\n",
       "    .dataframe tbody tr th:only-of-type {\n",
       "        vertical-align: middle;\n",
       "    }\n",
       "\n",
       "    .dataframe tbody tr th {\n",
       "        vertical-align: top;\n",
       "    }\n",
       "\n",
       "    .dataframe thead th {\n",
       "        text-align: right;\n",
       "    }\n",
       "</style>\n",
       "<table border=\"1\" class=\"dataframe\">\n",
       "  <thead>\n",
       "    <tr style=\"text-align: right;\">\n",
       "      <th></th>\n",
       "      <th>Номер эпохи k</th>\n",
       "      <th>Вектор весов w</th>\n",
       "      <th>Выходной вектор y</th>\n",
       "      <th>Суммарная ошибка E</th>\n",
       "    </tr>\n",
       "  </thead>\n",
       "  <tbody>\n",
       "    <tr>\n",
       "      <th>0</th>\n",
       "      <td>1</td>\n",
       "      <td>(1.0, 1.0, 1.0, 1.0, 1.0)</td>\n",
       "      <td>(1, 1, 1, 1, 1, 1, 1, 1, 1, 1, 1, 1, 1, 1, 1, 1)</td>\n",
       "      <td>9</td>\n",
       "    </tr>\n",
       "    <tr>\n",
       "      <th>1</th>\n",
       "      <td>2</td>\n",
       "      <td>(0.954, 0.952, 0.951, 0.944, 0.818)</td>\n",
       "      <td>(1, 1, 1, 1, 1, 1, 1, 1, 1, 1, 1, 1, 1, 1, 1, 1)</td>\n",
       "      <td>9</td>\n",
       "    </tr>\n",
       "    <tr>\n",
       "      <th>2</th>\n",
       "      <td>3</td>\n",
       "      <td>(0.889, 0.884, 0.881, 0.876, 0.59)</td>\n",
       "      <td>(1, 1, 1, 1, 1, 1, 1, 1, 1, 1, 1, 1, 1, 1, 1, 1)</td>\n",
       "      <td>9</td>\n",
       "    </tr>\n",
       "    <tr>\n",
       "      <th>3</th>\n",
       "      <td>4</td>\n",
       "      <td>(0.792, 0.778, 0.772, 0.791, 0.292)</td>\n",
       "      <td>(1, 1, 1, 1, 1, 1, 1, 1, 1, 1, 1, 1, 1, 1, 1, 1)</td>\n",
       "      <td>9</td>\n",
       "    </tr>\n",
       "    <tr>\n",
       "      <th>4</th>\n",
       "      <td>5</td>\n",
       "      <td>(0.623, 0.586, 0.57, 0.685, -0.132)</td>\n",
       "      <td>(0, 1, 1, 1, 1, 1, 1, 1, 1, 1, 1, 1, 1, 1, 1, 1)</td>\n",
       "      <td>8</td>\n",
       "    </tr>\n",
       "    <tr>\n",
       "      <th>5</th>\n",
       "      <td>6</td>\n",
       "      <td>(0.295, 0.212, 0.173, 0.577, -0.701)</td>\n",
       "      <td>(0, 0, 0, 1, 0, 1, 0, 1, 0, 1, 0, 1, 0, 1, 0, 1)</td>\n",
       "      <td>0</td>\n",
       "    </tr>\n",
       "  </tbody>\n",
       "</table>\n",
       "</div>"
      ],
      "text/plain": [
       "   Номер эпохи k                        Вектор весов w  \\\n",
       "0              1             (1.0, 1.0, 1.0, 1.0, 1.0)   \n",
       "1              2   (0.954, 0.952, 0.951, 0.944, 0.818)   \n",
       "2              3    (0.889, 0.884, 0.881, 0.876, 0.59)   \n",
       "3              4   (0.792, 0.778, 0.772, 0.791, 0.292)   \n",
       "4              5   (0.623, 0.586, 0.57, 0.685, -0.132)   \n",
       "5              6  (0.295, 0.212, 0.173, 0.577, -0.701)   \n",
       "\n",
       "                                  Выходной вектор y  Суммарная ошибка E  \n",
       "0  (1, 1, 1, 1, 1, 1, 1, 1, 1, 1, 1, 1, 1, 1, 1, 1)                   9  \n",
       "1  (1, 1, 1, 1, 1, 1, 1, 1, 1, 1, 1, 1, 1, 1, 1, 1)                   9  \n",
       "2  (1, 1, 1, 1, 1, 1, 1, 1, 1, 1, 1, 1, 1, 1, 1, 1)                   9  \n",
       "3  (1, 1, 1, 1, 1, 1, 1, 1, 1, 1, 1, 1, 1, 1, 1, 1)                   9  \n",
       "4  (0, 1, 1, 1, 1, 1, 1, 1, 1, 1, 1, 1, 1, 1, 1, 1)                   8  \n",
       "5  (0, 0, 0, 1, 0, 1, 0, 1, 0, 1, 0, 1, 0, 1, 0, 1)                   0  "
      ]
     },
     "execution_count": 5,
     "metadata": {},
     "output_type": "execute_result"
    }
   ],
   "source": [
    "data = []\n",
    "epoch_number = 0\n",
    "count_errors = 1\n",
    "errors = []\n",
    "epochs = []\n",
    "nn = NeuralNetwork(learning_rate=0.45, activation_function=third_af, derivative_function=third_df)\n",
    "\n",
    "while count_errors:\n",
    "    epoch_number += 1\n",
    "    current_weights = copy(nn.weights)\n",
    "    count_errors = nn.epoch(input_data, expected_output_data)\n",
    "\n",
    "    data.append([epoch_number,\n",
    "                 f'({current_weights[1]:.3}, {current_weights[2]:.3}, {current_weights[3]:.3}, {current_weights[4]:.3}, {current_weights[0]:.3})',\n",
    "                 f'({\", \".join(map(str, nn.current_nn_output))})',\n",
    "                 nn.current_error_count])\n",
    "    epochs.append(epoch_number)\n",
    "    errors.append(count_errors)\n",
    "\n",
    "pd.DataFrame(data, columns=('Номер эпохи k', 'Вектор весов w', 'Выходной вектор y', 'Суммарная ошибка E'))\n"
   ]
  },
  {
   "cell_type": "markdown",
   "id": "73d35d3f",
   "metadata": {},
   "source": [
    "<b> График ошибки </b>"
   ]
  },
  {
   "cell_type": "code",
   "execution_count": 6,
   "id": "8fe815b4",
   "metadata": {
    "pycharm": {
     "name": "#%%\n"
    }
   },
   "outputs": [
    {
     "data": {
      "image/png": "[encoded data removed]",
      "text/plain": [
       "<Figure size 432x288 with 1 Axes>"
      ]
     },
     "metadata": {
      "needs_background": "light"
     },
     "output_type": "display_data"
    }
   ],
   "source": [
    "plt.plot(epochs, errors)\n",
    "plt.xlabel('Epochs')\n",
    "plt.ylabel('Errors')\n",
    "plt.xticks([x for x in range(len(epochs) + 1)], [x for x in range(len(epochs) + 1)])\n",
    "plt.yticks([x for x in range(max(errors) + 1)], [x for x in range(max(errors) + 1)])\n",
    "plt.show()"
   ]
  },
  {
   "cell_type": "code",
   "execution_count": null,
   "id": "aea25710",
   "metadata": {},
   "outputs": [],
   "source": []
  }
 ],
 "metadata": {
  "kernelspec": {
   "display_name": "myenv",
   "language": "python",
   "name": "myenv"
  },
  "language_info": {
   "codemirror_mode": {
    "name": "ipython",
    "version": 3
   },
   "file_extension": ".py",
   "mimetype": "text/x-python",
   "name": "python",
   "nbconvert_exporter": "python",
   "pygments_lexer": "ipython3",
   "version": "3.9.2"
  }
 },
 "nbformat": 4,
 "nbformat_minor": 5
}